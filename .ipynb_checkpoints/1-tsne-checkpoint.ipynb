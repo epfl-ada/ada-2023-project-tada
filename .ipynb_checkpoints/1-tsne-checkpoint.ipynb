{
 "cells": [
  {
   "cell_type": "code",
   "execution_count": 1,
   "metadata": {},
   "outputs": [],
   "source": [
    "import pandas as pd\n",
    "import pandas as pd\n",
    "import numpy as np\n",
    "import warnings\n",
    "from sklearn.manifold import TSNE\n",
    "import plotly.express as px\n",
    "from helpers import load_data, get_embedding\n",
    "import plotly.graph_objects as go\n",
    "\n",
    "warnings.filterwarnings(\"ignore\")\n",
    "\n",
    "DATA_PATH = '/Users/tanguydeclety/Documents/GitHub/ada-2023-project-tada/data/tada/'\n",
    "\n",
    "# Load the data\n",
    "loaded_data = load_data(DATA_PATH)\n",
    "\n",
    "character_metadata = loaded_data['character_metadata']\n",
    "movie_metadata = loaded_data['movie_metadata']\n",
    "plot_summaries = loaded_data['plot_summaries']\n",
    "embeddings = loaded_data['embeddings']\n",
    "combined_plot_summaries = loaded_data['combined_plot_summaries']"
   ]
  },
  {
   "cell_type": "code",
   "execution_count": null,
   "metadata": {},
   "outputs": [],
   "source": [
    "tsne = TSNE(n_components=2, random_state=0)\n",
    "tsne_obj = tsne.fit_transform(embeddings)"
   ]
  },
  {
   "cell_type": "code",
   "execution_count": null,
   "metadata": {},
   "outputs": [],
   "source": [
    "def movie_id_to_name(wikipedia_movie_id):\n",
    "    if wikipedia_movie_id is None:\n",
    "        return None\n",
    "    \n",
    "    names = movie_metadata.loc[movie_metadata['Wikipedia movie ID'] == wikipedia_movie_id]['Movie name']\n",
    "\n",
    "    if names.empty:\n",
    "        return \"Unknown\"\n",
    "    return names.values[0]\n",
    "\n",
    "movie_names = combined_plot_summaries['Wikipedia movie ID'].apply(movie_id_to_name)"
   ]
  },
  {
   "cell_type": "code",
   "execution_count": null,
   "metadata": {},
   "outputs": [],
   "source": [
    "search_terms = [\"War\", \"Pink\", \"Detective\", \"Indian\", \"Love\"]\n",
    "\n",
    "# Calculate cosine similarities for each search term\n",
    "cosine_similarities_dict = {}\n",
    "for term in search_terms:\n",
    "    search_embedding = get_embedding(term)\n",
    "    cosine_similarities_dict[term] = np.dot(embeddings, search_embedding)\n"
   ]
  },
  {
   "cell_type": "code",
   "execution_count": null,
   "metadata": {},
   "outputs": [],
   "source": [
    "\n",
    "# Initial plot with the first search term\n",
    "initial_term = search_terms[0]\n",
    "tsne_df = pd.DataFrame({'X': tsne_obj[:, 0], 'Y': tsne_obj[:, 1], 'Movie': movie_names, 'Color': cosine_similarities_dict[initial_term]})\n",
    "\n",
    "# Creating the figure using graph_objects\n",
    "fig = go.Figure(data=go.Scatter(\n",
    "    x=tsne_df['X'], \n",
    "    y=tsne_df['Y'],\n",
    "    mode='markers',\n",
    "    marker=dict(\n",
    "        color=tsne_df['Color'],  # Set the color of markers\n",
    "        colorscale='RdBu',  # Color scale\n",
    "        colorbar=dict(title='Cosine Similarity')  # Color bar title\n",
    "    ),\n",
    "    text=tsne_df['Movie'],  # Hover text\n",
    "    hoverinfo='text'\n",
    "))\n",
    "\n",
    "# Set the title of the plot\n",
    "fig.update_layout(title=f'T-SNE plot of movie embeddings for search of {initial_term}')\n",
    "\n",
    "# Dropdown menu for switching between terms\n",
    "fig.update_layout(\n",
    "    updatemenus=[\n",
    "        dict(\n",
    "            active=0,\n",
    "            buttons=list(\n",
    "                [\n",
    "                    dict(\n",
    "                        label=term,\n",
    "                        method=\"update\",\n",
    "                        args=[{\"marker.color\": [cosine_similarities_dict[term]]},\n",
    "                              {\"title\": f'T-SNE plot of movie embeddings for search of {term}'}]\n",
    "                    ) for term in search_terms\n",
    "                ]\n",
    "            )\n",
    "        )\n",
    "    ]\n",
    ")\n",
    "\n",
    "fig.show()\n",
    "# Save as html file\n",
    "fig.write_html(\"plots/1-tsne.html\", include_plotlyjs=\"cdn\")\n"
   ]
  },
  {
   "cell_type": "code",
   "execution_count": null,
   "metadata": {},
   "outputs": [],
   "source": []
  }
 ],
 "metadata": {
  "kernelspec": {
   "display_name": "Python 3 (ipykernel)",
   "language": "python",
   "name": "python3"
  },
  "language_info": {
   "codemirror_mode": {
    "name": "ipython",
    "version": 3
   },
   "file_extension": ".py",
   "mimetype": "text/x-python",
   "name": "python",
   "nbconvert_exporter": "python",
   "pygments_lexer": "ipython3",
   "version": "3.9.18"
  }
 },
 "nbformat": 4,
 "nbformat_minor": 2
}
