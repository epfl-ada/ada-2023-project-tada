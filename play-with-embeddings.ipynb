{
 "cells": [
  {
   "cell_type": "markdown",
   "metadata": {},
   "source": [
    "## Load data"
   ]
  },
  {
   "cell_type": "code",
   "execution_count": null,
   "metadata": {},
   "outputs": [],
   "source": [
    "import pandas as pd\n",
    "import pandas as pd\n",
    "import numpy as np\n",
    "import warnings\n",
    "import time\n",
    "import os\n",
    "import openai\n",
    "from sklearn.manifold import TSNE\n",
    "import plotly.express as px\n",
    "import tqdm\n",
    "warnings.filterwarnings(\"ignore\")\n",
    "\n",
    "DATA_PATH = 'data/MovieSummaries/'\n",
    "character_metadata = pd.read_csv(DATA_PATH + 'character.metadata.tsv', \n",
    "                                 sep='\\t', \n",
    "                                 names= [\n",
    "                                     'Wikipedia movie ID',\n",
    "                                     'Freebase movie ID',\n",
    "                                     'Movie release date',\n",
    "                                     'Character name',\n",
    "                                     'Actor date of birth',\n",
    "                                     'Actor gender',\n",
    "                                     'Actor height (in meters)',\n",
    "                                     'Actor ethnicity (Freebase ID)',\n",
    "                                     'Actor name',\n",
    "                                     'Actor age at movie release',\n",
    "                                     'Freebase character/actor map ID',\n",
    "                                     'Freebase character ID',\n",
    "                                     'Freebase actor ID'\n",
    "                                 ]\n",
    "                                 )\n",
    "\n",
    "movie_metadata = pd.read_csv(DATA_PATH + 'movie.metadata.tsv', sep='\\t', header=0,\n",
    "                             names=['Wikipedia movie ID',\n",
    "                                         'Freebase movie ID',\n",
    "                                         'Movie name',\n",
    "                                         'Movie release date',\n",
    "                                         'Movie box office revenue',\n",
    "                                         'Movie runtime',\n",
    "                                         'Movie languages (Freebase ID:name tuples)',\n",
    "                                         'Movie countries (Freebase ID:name tuples)',\n",
    "                                         'Movie genres (Freebase ID:name tuples)'\n",
    "                                         ])\n",
    "\n",
    "plot_summaries = pd.read_csv(DATA_PATH + 'plot_summaries.txt', sep='\\t', names=[\n",
    "    'Wikipedia movie ID',\n",
    "    'Summary'\n",
    "])"
   ]
  },
  {
   "cell_type": "code",
   "execution_count": null,
   "metadata": {},
   "outputs": [],
   "source": [
    "# load the embeddings from disk\n",
    "embeddings = np.load('data/embeddings.npy', allow_pickle=True)\n",
    "embeddings_df = pd.DataFrame(embeddings, columns=['Wikipedia movie ID', 'embedding'])"
   ]
  },
  {
   "cell_type": "code",
   "execution_count": null,
   "metadata": {},
   "outputs": [],
   "source": [
    "# Combine on the first column of embeddings\n",
    "combined_plot_summaries = pd.merge(plot_summaries, embeddings_df, on='Wikipedia movie ID')"
   ]
  },
  {
   "cell_type": "code",
   "execution_count": null,
   "metadata": {},
   "outputs": [],
   "source": [
    "embeddings = np.array(embeddings[:,1].tolist())"
   ]
  },
  {
   "cell_type": "markdown",
   "metadata": {},
   "source": [
    "## Similarity search"
   ]
  },
  {
   "cell_type": "code",
   "execution_count": null,
   "metadata": {},
   "outputs": [],
   "source": [
    "wikipedia_movie_id = 3746\n",
    "\n",
    "# Find the embedding of the movie with the wikipedia_movie_id\n",
    "embedding = combined_plot_summaries.loc[combined_plot_summaries['Wikipedia movie ID'] == wikipedia_movie_id]['embedding'].values[0]\n",
    "\n",
    "# Calculate the cosine similarity between the embedding of the movie with the wikipedia_movie_id and all other embeddings\n",
    "cosine_similarities = np.dot(embeddings, embedding)\n",
    "\n",
    "# Find the top 10 most similar movies\n",
    "similar_indices = cosine_similarities.argsort()[:-20:-1]\n",
    "\n",
    "wikipedia_movie_ids = combined_plot_summaries.loc[similar_indices]['Wikipedia movie ID'].values\n",
    "\n",
    "# Print the movie name of the movie with the wikipedia_movie_id\n",
    "print(\"Most similar movies to: \\\"\" + movie_metadata.loc[movie_metadata['Wikipedia movie ID'] == wikipedia_movie_id]['Movie name'].values[0] + \"\\\"\")\n",
    "print(\"Similar movies:\")\n",
    "print(\"\")\n",
    "\n",
    "similar_movies = movie_metadata.loc[movie_metadata['Wikipedia movie ID'].isin(wikipedia_movie_ids)]\n",
    "\n",
    "similarity_of_closest = []\n",
    "\n",
    "for movie in similar_movies.to_dict('records'):\n",
    "    similarity_of_closest.append(cosine_similarities[combined_plot_summaries.loc[combined_plot_summaries['Wikipedia movie ID'] == movie['Wikipedia movie ID']].index[0]])\n",
    "\n",
    "similar_movies['Similarity'] = similarity_of_closest\n",
    "\n",
    "similar_movies = similar_movies.sort_values(by='Similarity', ascending=False)\n",
    "\n",
    "for movie in similar_movies.to_dict('records'):\n",
    "    print(movie['Movie name'] + \" - \" + str(movie['Similarity']))"
   ]
  },
  {
   "cell_type": "markdown",
   "metadata": {},
   "source": [
    "## Querying"
   ]
  },
  {
   "cell_type": "code",
   "execution_count": null,
   "metadata": {},
   "outputs": [],
   "source": [
    "def get_embedding(text, model=\"text-embedding-ada-002\"):\n",
    "    text = text.replace(\"\\n\", \" \")\n",
    "    text = text.replace(\"\\t\", \" \")\n",
    "    text = text.replace(\"\\r\", \" \")\n",
    "    text = text.replace(\"\\x0b\", \" \")\n",
    "    text = text.replace(\"\\x0c\", \" \")\n",
    "    try:\n",
    "        embedding = openai.Embedding.create(input=[text], model=model)['data'][0]['embedding']\n",
    "\n",
    "        if embedding is None:\n",
    "            print(f\"Failed to process text: {text}. Error: embedding is None\")\n",
    "            return None\n",
    "        return embedding\n",
    "    except openai.error.OpenAIError as e:\n",
    "        print(f\"Failed to process text: {text}. Error: {str(e)}\")\n",
    "        time.sleep(60)\n",
    "        return None"
   ]
  },
  {
   "cell_type": "code",
   "execution_count": null,
   "metadata": {},
   "outputs": [],
   "source": [
    "search_term = \"Romantic movies\"\n",
    "\n",
    "search_embedding = get_embedding(search_term)\n",
    "\n",
    "cosine_similarities = np.dot(embeddings, search_embedding)\n",
    "\n",
    "similar_indices = cosine_similarities.argsort()[:-20:-1]\n",
    "\n",
    "wikipedia_movie_ids = combined_plot_summaries.loc[similar_indices]['Wikipedia movie ID'].values\n",
    "\n",
    "print(\"Search results for: \\\"\" + search_term + \"\\\"\")\n",
    "print(\"Similar movies:\")\n",
    "print(\"\")\n",
    "\n",
    "similar_movies = movie_metadata.loc[movie_metadata['Wikipedia movie ID'].isin(wikipedia_movie_ids)]\n",
    "\n",
    "similarity_of_closest = []\n",
    "\n",
    "for movie in similar_movies.to_dict('records'):\n",
    "    similarity_of_closest.append(cosine_similarities[combined_plot_summaries.loc[combined_plot_summaries['Wikipedia movie ID'] == movie['Wikipedia movie ID']].index[0]])\n",
    "\n",
    "similar_movies['Similarity'] = similarity_of_closest\n",
    "\n",
    "similar_movies = similar_movies.sort_values(by='Similarity', ascending=False)\n",
    "\n",
    "for movie in similar_movies.to_dict('records'):\n",
    "    print(movie['Movie name'] + \" - \" + str(movie['Similarity']))"
   ]
  },
  {
   "cell_type": "markdown",
   "metadata": {},
   "source": [
    "## T-SNE"
   ]
  },
  {
   "cell_type": "code",
   "execution_count": null,
   "metadata": {},
   "outputs": [],
   "source": [
    "\n",
    "tsne = TSNE(n_components=2, random_state=0)\n",
    "tsne_obj = tsne.fit_transform(embeddings)"
   ]
  },
  {
   "cell_type": "code",
   "execution_count": null,
   "metadata": {},
   "outputs": [],
   "source": [
    "def movie_id_to_name(wikipedia_movie_id):\n",
    "    if wikipedia_movie_id is None:\n",
    "        return None\n",
    "    \n",
    "    names = movie_metadata.loc[movie_metadata['Wikipedia movie ID'] == wikipedia_movie_id]['Movie name']\n",
    "\n",
    "    if names.empty:\n",
    "        return \"Unknown\"\n",
    "    return names.values[0]\n",
    "\n",
    "movie_names = combined_plot_summaries['Wikipedia movie ID'].apply(movie_id_to_name)"
   ]
  },
  {
   "cell_type": "code",
   "execution_count": null,
   "metadata": {},
   "outputs": [],
   "source": [
    "search_term = \"pink\" # Interesting searches with cool clusters: pink, sherlock holmes\n",
    "\n",
    "search_embedding = get_embedding(search_term)\n",
    "cosine_similarities = np.dot(embeddings, search_embedding)\n",
    "\n",
    "tsne_df = pd.DataFrame({'X':tsne_obj[:,0],\n",
    "                        'Y':tsne_obj[:,1],\n",
    "                        'Movie': movie_names,\n",
    "                        })\n",
    "\n",
    "fig = px.scatter(tsne_df, x='X', y='Y', width=1000, height=1000, title='T-SNE plot of movie embeddings for search of ' + search_term, hover_name='Movie', color=cosine_similarities, color_continuous_scale='RdBu')\n",
    "\n",
    "fig.show()"
   ]
  },
  {
   "cell_type": "code",
   "execution_count": null,
   "metadata": {},
   "outputs": [],
   "source": [
    "# histogram of cosine similarities\n",
    "import plotly.graph_objects as go\n",
    "\n",
    "fig = go.Figure(data=[go.Histogram(x=cosine_similarities)])\n",
    "fig.update_layout(title_text='Histogram of cosine similarities for search of ' + search_term)\n",
    "fig.show()"
   ]
  },
  {
   "cell_type": "markdown",
   "metadata": {},
   "source": [
    "# Cities"
   ]
  },
  {
   "cell_type": "code",
   "execution_count": null,
   "metadata": {},
   "outputs": [],
   "source": [
    "cities_and_countries = [\n",
    "    'Paris', 'Berlin', 'Bucharest', 'Kiev', 'Amsterdam', 'Zurich', 'Lausanne',\n",
    "    'London', 'Madrid', 'Lisbon', 'Rome', 'Athens', 'Oslo', 'Stockholm', 'Helsinki',\n",
    "    'Copenhagen', 'Dublin', 'Brussels', 'Warsaw', 'Prague', 'Vienna', 'Budapest',\n",
    "    'Belgrade', 'Sofia', 'Tirana', 'Reykjavik', 'Luxembourg', 'Monaco', 'Vaduz',\n",
    "    'San Marino', 'Andorra la Vella', 'Moscow', 'Saint Petersburg', 'Istanbul',\n",
    "    'Ankara', 'Edinburgh', 'Glasgow', 'Cardiff', 'Belfast', 'Munich', 'Frankfurt',\n",
    "    'Hamburg', 'Cologne', 'Stuttgart', 'Düsseldorf', 'Nuremberg', 'Leipzig',\n",
    "    'Dresden', 'Hannover', 'Bremen', 'Bonn', 'Marseille', 'Lyon', 'Toulouse',\n",
    "     'Nantes', 'Strasbourg', 'Montpellier', 'Bordeaux', 'Lille', 'Rennes',\n",
    "    'Reims', 'Le Havre', 'Saint-Étienne', 'Toulon', 'Grenoble', 'Dijon', 'Angers',\n",
    "    'Nîmes', 'Clermont-Ferrand', 'Saint-Denis', 'La Rochelle', 'Le Mans', 'Aix-en-Provence',\n",
    "    'Brest', 'Limoges', 'Tours', 'Amiens', 'Perpignan', 'Metz', 'Besançon', 'Caen',\n",
    "    'Orléans', 'Mulhouse', 'Rouen', 'Boulogne-Billancourt', 'Nancy', 'Argenteuil',\n",
    "    'Montreuil', 'Saint-Paul', 'Avignon', 'Saint-Denis', 'Versailles', 'Nanterre',\n",
    "    'Pau', 'Courbevoie', 'Vitry-sur-Seine', 'Colombes', 'Asnières-sur-Seine',\n",
    "    'Aulnay-sous-Bois', 'Rueil-Malmaison', 'Antibes', 'Saint-Maur-des-Fossés',\n",
    "    'Calais', 'Bezons', 'Dunkerque', 'Aubervilliers',\n",
    "    # Capitals in the Americas\n",
    "    'Washington D.C.', 'Ottawa', 'Mexico City', 'Buenos Aires', 'Brasília', 'Santiago',\n",
    "    'Lima', 'Bogotá', 'Caracas', 'Quito', 'Montevideo', 'Havana', 'Kingston',\n",
    "    'San José', 'Panama City', 'Tegucigalpa', 'San Salvador', 'Guatemala City',\n",
    "    'Managua', 'Port-au-Prince', 'Santo Domingo',\n",
    "    # Capitals in Asia\n",
    "    'Beijing', 'Tokyo', 'New Delhi', 'Seoul', 'Jakarta', 'Bangkok', 'Manila',\n",
    "    'Kuala Lumpur', 'Singapore', 'Islamabad', 'Dhaka', 'Astana', 'Ulaanbaatar',\n",
    "    'Riyadh', 'Ankara', 'Tehran', 'Baghdad', 'Jerusalem', 'Doha', 'Dubai', 'Abu Dhabi',\n",
    "    'Kabul', 'Yerevan', 'Baku', 'Tbilisi',\n",
    "    # Capitals in Africa\n",
    "    'Cairo', 'Nairobi', 'Pretoria', 'Algiers', 'Rabat', 'Lagos', 'Addis Ababa',\n",
    "    'Accra', 'Dakar', 'Tunis', 'Tripoli', 'Khartoum', 'Luanda', 'Harare', 'Kigali',\n",
    "    'Kampala', 'Mogadishu', 'Bamako', 'Niamey'\n",
    "]\n",
    "\n",
    "\n",
    "embedded_cities_and_countries = []\n",
    "\n",
    "for city_country in tqdm(cities_and_countries):\n",
    "    embedded_cities_and_countries.append(get_embedding(city_country))\n",
    "    "
   ]
  },
  {
   "cell_type": "code",
   "execution_count": null,
   "metadata": {},
   "outputs": [],
   "source": [
    "movies_in_cities_and_countries = { city_country: [] for city_country in cities_and_countries }\n",
    "\n",
    "for city_country, city_embedding in tqdm(zip(cities_and_countries, embedded_cities_and_countries)):\n",
    "    cosine_similarities = np.dot(embeddings, city_embedding)\n",
    "    \n",
    "    # We take 3 stds above the mean movies to get a good sample of movies\n",
    "    similarity_mean = np.mean(cosine_similarities)\n",
    "    similarity_std = np.std(cosine_similarities)\n",
    "    \n",
    "    similar_indices = np.where(cosine_similarities > similarity_mean + 3 * similarity_std)[0]\n",
    "\n",
    "    wikipedia_movie_ids = combined_plot_summaries.iloc[similar_indices]['Wikipedia movie ID'].values\n",
    "    movies_in_cities_and_countries[city_country] = wikipedia_movie_ids\n"
   ]
  },
  {
   "cell_type": "code",
   "execution_count": null,
   "metadata": {},
   "outputs": [],
   "source": [
    "embeddings_of_movies_in_cities_and_countries = { city_country: [] for city_country in cities_and_countries }\n",
    "\n",
    "for city_country in cities_and_countries:\n",
    "    embeddings_of_movies_in_cities_and_countries[city_country] = np.array(combined_plot_summaries.loc[combined_plot_summaries['Wikipedia movie ID'].isin(movies_in_cities_and_countries[city_country])]['embedding'].values.tolist())"
   ]
  },
  {
   "cell_type": "code",
   "execution_count": null,
   "metadata": {},
   "outputs": [],
   "source": [
    "general_terms = ['Drugs', 'Love', 'War', 'Poverty', 'Comedy', 'Happiness', 'Sadness', 'Gang', 'Hippies', 'Guns']\n",
    "embeddings_of_general_terms = { general_term: get_embedding(general_term) for general_term in general_terms }\n",
    "similarity_movie_to_term = { city : { general_term: 0.0 for general_term in general_terms } for city in cities_and_countries }\n",
    "\n",
    "embedded_cities_and_countries = np.array(embedded_cities_and_countries)\n",
    "\n",
    "for city_or_country in cities_and_countries:\n",
    "\n",
    "    for term, term_embedding in embeddings_of_general_terms.items():\n",
    "        \n",
    "        cosine_similarities = np.dot(np.array(embeddings_of_movies_in_cities_and_countries[city_or_country]).reshape(-1, 1536), term_embedding)\n",
    "        \n",
    "        similarity_movie_to_term[city_or_country][term] = np.mean(cosine_similarities)"
   ]
  },
  {
   "cell_type": "code",
   "execution_count": null,
   "metadata": {},
   "outputs": [],
   "source": [
    "import plotly.graph_objects as go\n",
    "\n",
    "data_pairs = [(city, similarity_movie_to_term[city]['Guns']) for city in cities_and_countries]\n",
    "data_pairs.sort(key=lambda x: x[1])\n",
    "\n",
    "sorted_cities = [pair[0] for pair in data_pairs]\n",
    "similarity_scores = [pair[1] for pair in data_pairs]\n",
    "\n",
    "hover_text = [f\"{city}: {score:.2f}\" for city, score in zip(sorted_cities, similarity_scores)]\n",
    "\n",
    "fig = go.Figure(data=[go.Scatter(\n",
    "    x=similarity_scores, \n",
    "    y=[1] * len(similarity_scores), \n",
    "    mode='markers',\n",
    "    text=hover_text,\n",
    "    hoverinfo='text'\n",
    ")])\n",
    "\n",
    "fig.update_layout(\n",
    "    title_text='Similarity to the Word \"Guns\" for Cities and Countries',\n",
    "    xaxis=dict(\n",
    "        title='Similarity Score',\n",
    "        tickvals=similarity_scores,\n",
    "        ticktext=sorted_cities\n",
    "    ),\n",
    "    yaxis=dict(\n",
    "        showgrid=False,\n",
    "        zeroline=False,\n",
    "        showticklabels=False,\n",
    "    ),\n",
    "    hovermode='closest',\n",
    "    showlegend=False\n",
    ")\n",
    "\n",
    "fig.update_xaxes(rangeslider=dict(visible=True))\n",
    "\n",
    "fig.show()\n"
   ]
  },
  {
   "cell_type": "code",
   "execution_count": null,
   "metadata": {},
   "outputs": [],
   "source": [
    "import googlemaps\n",
    "import pandas as pd\n",
    "import plotly.express as px\n",
    "from sklearn.preprocessing import MinMaxScaler\n",
    "\n",
    "gmaps = googlemaps.Client(key=os.environ['GOOGLE_MAPS_API_KEY'])\n",
    "\n",
    "\n",
    "coordinates = []\n",
    "for city in  [pair[0] for pair in data_pairs]:\n",
    "    geocode_result = gmaps.geocode(city)\n",
    "    if geocode_result:\n",
    "        lat = geocode_result[0][\"geometry\"][\"location\"][\"lat\"]\n",
    "        lng = geocode_result[0][\"geometry\"][\"location\"][\"lng\"]\n",
    "        coordinates.append((lat, lng))\n",
    "    else:\n",
    "        coordinates.append((None, None))\n",
    "\n",
    "df = pd.DataFrame({\n",
    "    'City':  [pair[0] for pair in data_pairs],\n",
    "    'Latitude': [coord[0] for coord in coordinates],\n",
    "    'Longitude': [coord[1] for coord in coordinates],\n",
    "    'Similarity': [pair[1] for pair in data_pairs]\n",
    "})\n",
    "\n",
    "scaler = MinMaxScaler()\n",
    "df['Similarity_Scaled'] = scaler.fit_transform(df[['Similarity']])\n",
    "\n",
    "# Creating the map\n",
    "fig = px.scatter_geo(df,\n",
    "                     lat='Latitude',\n",
    "                     lon='Longitude',\n",
    "                     color='Similarity_Scaled',\n",
    "                     hover_name='City',\n",
    "                     hover_data={'Latitude': False, 'Longitude': False, 'Similarity_Scaled': False, 'Similarity': True},\n",
    "                     projection=\"natural earth\",\n",
    "                     title=\"Map for Similarity to the Word 'Guns' for Cities and Countries\")\n",
    "\n",
    "fig.show()\n"
   ]
  }
 ],
 "metadata": {
  "kernelspec": {
   "display_name": "Python 3",
   "language": "python",
   "name": "python3"
  },
  "language_info": {
   "codemirror_mode": {
    "name": "ipython",
    "version": 3
   },
   "file_extension": ".py",
   "mimetype": "text/x-python",
   "name": "python",
   "nbconvert_exporter": "python",
   "pygments_lexer": "ipython3",
   "version": "3.10.11"
  },
  "orig_nbformat": 4
 },
 "nbformat": 4,
 "nbformat_minor": 2
}
