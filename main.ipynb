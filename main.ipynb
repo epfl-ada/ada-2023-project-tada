{
 "cells": [
  {
   "cell_type": "markdown",
   "metadata": {},
   "source": [
    "# How does cinema view the world?"
   ]
  },
  {
   "cell_type": "markdown",
   "metadata": {},
   "source": [
    "This project will explore how cities and countries are depicted in cinema.\n",
    "\n",
    "We will explore this topic from multiple aspects.\n",
    "\n",
    "Contents:\n",
    "\n",
    "0. [Data preprocessing](#data-preprocessing)\n",
    "1. [Large Scale Analysis](#large-scale-analysis)\n",
    "2. [Cityscapes](#cityscapes)\n",
    "3. [Characters](#characters)\n",
    "4. [Going back in time](#going-back-in-time)"
   ]
  },
  {
   "cell_type": "markdown",
   "metadata": {},
   "source": [
    "## Data preprocessing"
   ]
  },
  {
   "cell_type": "markdown",
   "metadata": {},
   "source": [
    "### Imports"
   ]
  },
  {
   "cell_type": "markdown",
   "metadata": {},
   "source": [
    "Here we import the required libraries and helper functions we will need for the analysis."
   ]
  },
  {
   "cell_type": "code",
   "execution_count": 8,
   "metadata": {},
   "outputs": [],
   "source": [
    "import os\n",
    "\n",
    "import pandas as pd\n",
    "import numpy as np\n",
    "\n",
    "# We use google maps to get the coordinates of the cities/countries.\n",
    "import googlemaps\n",
    "import cartopy.crs as ccrs\n",
    "\n",
    "# We import all our helper functions from the helpers.py file.\n",
    "from helpers import *\n",
    "\n",
    "# To track progress we use the tqdm package.\n",
    "import tqdm\n",
    "\n",
    "# To load our generated movie analysis we will use the json package.\n",
    "import json\n",
    "\n",
    "# T-SNE for dimensionality reduction\n",
    "from sklearn.manifold import TSNE\n",
    "\n",
    "# Plotting\n",
    "import seaborn as sns\n",
    "import matplotlib.pyplot as plt\n",
    "import matplotlib\n",
    "from matplotlib.ticker import MaxNLocator\n",
    "\n",
    "# To parse genres from dataframe\n",
    "import ast\n",
    "\n",
    "# For mapping genres to colors\n",
    "import hashlib\n",
    "\n",
    "import plotly.express as px\n",
    "import plotly.graph_objects as go\n",
    "from plotly.subplots import make_subplots\n",
    "\n",
    "# For caching\n",
    "import functools\n",
    "\n",
    "# Statistical tests and distributions\n",
    "import scipy.stats as stats\n",
    "from scipy.stats import chi2_contingency\n",
    "from statsmodels.stats.multicomp import pairwise_tukeyhsd\n",
    "from scipy.stats import gaussian_kde, norm\n",
    "\n",
    "# We hide warnings to make the notebook a bit cleaner.\n",
    "import warnings\n",
    "warnings.filterwarnings(\"ignore\")"
   ]
  },
  {
   "cell_type": "markdown",
   "metadata": {},
   "source": [
    "### Data loading\n",
    "\n",
    "For the project we are using the [CMU Movie Summary Corpus](https://www.cs.cmu.edu/~ark/personas/) which contains plot summaries of 42,306 movies. The dataset also contains a number of metadata information about the movie and the actors.\n",
    "\n",
    "We will use the following files from the dataset:\n",
    "- `plot_summaries.txt` - which contains the plot summaries.\n",
    "- `character.metadata.tsv` - which contains information about the characters and actors that play in a movie.\n",
    "- `movie.metadata.tsv` - which contains information about movies.\n",
    "\n",
    "\n",
    "As our project explores how *cinema views the world* as our main tool we have decided to analyze how the location of a movie affects the story, characters and what bias can be found.\n",
    "\n",
    "#### Location information\n",
    "The dataset does not provide the plot location to us and as such we have extracted location information using the newly released [JSON ChatGPT API](https://platform.openai.com/docs/guides/text-generation/json-mode).\n",
    "\n",
    "With the use of the OpenAI API we have extracted the following information for each movie summary:\n",
    "\n",
    "Example output of the movie ***Pest from the West***\n",
    "```json\n",
    "{\n",
    "   \"cities\": [\n",
    "      \"Mexico City\"\n",
    "   ],\n",
    "   \"countries\": [\n",
    "      \"Mexico\"\n",
    "   ],\n",
    "   \"characters\": {\n",
    "      \"Keaton\": {\n",
    "         \"nationality\": \"USA\",\n",
    "         \"alignment\": \"good\"\n",
    "      }\n",
    "   }\n",
    "}\n",
    "```\n",
    "\n",
    "This data resides in the `movie_analysis.json` file. The code that helped us generate these results resides in `calculate-locations.ipynb`.\n",
    "\n",
    "#### Embeddings\n",
    "We have also computed semantic embeddings of all summaries in order to be able to get similarity metrics between movies or from a term to a movie. To calculate these embeddings we have used the [OpenAI Embeddings API](https://platform.openai.com/docs/guides/embeddings). Each embedding vector is `1536` dimensional.\n",
    "\n",
    "The embeddings are stored in the `embeddings.npy` file. The code that helped us generate these results resides in `calculate-embeddings.ipynb`."
   ]
  },
  {
   "cell_type": "markdown",
   "metadata": {},
   "source": [
    "We will now load our preprocessed data."
   ]
  },
  {
   "cell_type": "code",
   "execution_count": 9,
   "metadata": {},
   "outputs": [],
   "source": [
    "DATA_PATH = 'data/'\n",
    "\n",
    "# We load the data using our helper function.\n",
    "loaded_data = load_data(DATA_PATH)\n",
    "\n",
    "# We initialize the google maps client using our API key.\n",
    "gmaps = googlemaps.Client(key=os.environ['GOOGLE_MAPS_API_KEY'])\n",
    "\n",
    "# We extract the variables from the loaded data.\n",
    "character_metadata = loaded_data['character_metadata'] # The metadata of the characters.\n",
    "movie_metadata = loaded_data['movie_metadata'] # The metadata of the movies.\n",
    "plot_summaries = loaded_data['plot_summaries'] # The plot summaries of the movies.\n",
    "embeddings = loaded_data['embeddings'] # The embeddings of the movies as a numpy array.\n",
    "combined_plot_summaries = loaded_data['combined_plot_summaries'] # The movie summaries combined with their embeddings.\n",
    "cities_in_country = loaded_data['cities_in_country'] # city list per country\n",
    "city_country_analysis = loaded_data['city_country_analysis'] # The analysis of the cities and countries.\n",
    "cities = city_country_analysis['cities'] # A list of all the cities.\n",
    "countries = city_country_analysis['countries'] # A list of all the countries.\n",
    "cities_movies = city_country_analysis['cities_movies'] # A dictionary mapping cities to movies.\n",
    "countries_movies = city_country_analysis['countries_movies'] # A dictionary mapping countries to movies.\n",
    "embeddings_of_movies_in_cities = city_country_analysis['embeddings_of_movies_in_cities'] # A dictionary mapping cities to embeddings of movies.\n",
    "embeddings_of_movies_in_countries = city_country_analysis['embeddings_of_movies_in_countries'] # A dictionary mapping countries to embeddings of movies.\n",
    "continent_mapping = json.load(open(DATA_PATH + 'continent_mapping.json'))\n",
    "\n",
    "# We create the plot directory if it does not exist yet.\n",
    "if not os.path.exists('web/plots'):\n",
    "    os.makedirs('web/plots')"
   ]
  },
  {
   "cell_type": "markdown",
   "metadata": {},
   "source": [
    "## Large Scale Analysis"
   ]
  },
  {
   "cell_type": "markdown",
   "metadata": {},
   "source": [
    "### Magnitude"
   ]
  },
  {
   "cell_type": "markdown",
   "metadata": {},
   "source": [
    "Before we start the analysis we should first see how many movies we have that actually contain location information. As the action for a movie can be left unspecified or the location can be fictitious."
   ]
  },
  {
   "cell_type": "code",
   "execution_count": 10,
   "metadata": {},
   "outputs": [
    {
     "data": {
      "application/vnd.plotly.v1+json": {
       "config": {
        "plotlyServerURL": "https://plot.ly"
       },
       "data": [
        {
         "hoverinfo": "none",
         "marker": {
          "color": [
           "rgb(102,194,165)",
           "rgb(252,141,98)",
           "rgb(141,160,203)",
           "rgb(231,138,195)",
           "rgb(166,216,84)",
           "rgb(255,217,47)",
           "rgb(229,196,148)",
           "rgb(179,179,179)"
          ]
         },
         "orientation": "h",
         "text": [
          "81,740",
          "42,303",
          "21,476",
          "12,969"
         ],
         "textposition": "auto",
         "type": "bar",
         "x": [
          81740,
          42303,
          21476,
          12969
         ],
         "y": [
          "Number of movies with metadata information",
          "Movies with plot summaries",
          "Movies with country present",
          "Movies with city present"
         ]
        }
       ],
       "layout": {
        "template": {
         "data": {
          "bar": [
           {
            "error_x": {
             "color": "#2a3f5f"
            },
            "error_y": {
             "color": "#2a3f5f"
            },
            "marker": {
             "line": {
              "color": "white",
              "width": 0.5
             },
             "pattern": {
              "fillmode": "overlay",
              "size": 10,
              "solidity": 0.2
             }
            },
            "type": "bar"
           }
          ],
          "barpolar": [
           {
            "marker": {
             "line": {
              "color": "white",
              "width": 0.5
             },
             "pattern": {
              "fillmode": "overlay",
              "size": 10,
              "solidity": 0.2
             }
            },
            "type": "barpolar"
           }
          ],
          "carpet": [
           {
            "aaxis": {
             "endlinecolor": "#2a3f5f",
             "gridcolor": "#C8D4E3",
             "linecolor": "#C8D4E3",
             "minorgridcolor": "#C8D4E3",
             "startlinecolor": "#2a3f5f"
            },
            "baxis": {
             "endlinecolor": "#2a3f5f",
             "gridcolor": "#C8D4E3",
             "linecolor": "#C8D4E3",
             "minorgridcolor": "#C8D4E3",
             "startlinecolor": "#2a3f5f"
            },
            "type": "carpet"
           }
          ],
          "choropleth": [
           {
            "colorbar": {
             "outlinewidth": 0,
             "ticks": ""
            },
            "type": "choropleth"
           }
          ],
          "contour": [
           {
            "colorbar": {
             "outlinewidth": 0,
             "ticks": ""
            },
            "colorscale": [
             [
              0,
              "#0d0887"
             ],
             [
              0.1111111111111111,
              "#46039f"
             ],
             [
              0.2222222222222222,
              "#7201a8"
             ],
             [
              0.3333333333333333,
              "#9c179e"
             ],
             [
              0.4444444444444444,
              "#bd3786"
             ],
             [
              0.5555555555555556,
              "#d8576b"
             ],
             [
              0.6666666666666666,
              "#ed7953"
             ],
             [
              0.7777777777777778,
              "#fb9f3a"
             ],
             [
              0.8888888888888888,
              "#fdca26"
             ],
             [
              1,
              "#f0f921"
             ]
            ],
            "type": "contour"
           }
          ],
          "contourcarpet": [
           {
            "colorbar": {
             "outlinewidth": 0,
             "ticks": ""
            },
            "type": "contourcarpet"
           }
          ],
          "heatmap": [
           {
            "colorbar": {
             "outlinewidth": 0,
             "ticks": ""
            },
            "colorscale": [
             [
              0,
              "#0d0887"
             ],
             [
              0.1111111111111111,
              "#46039f"
             ],
             [
              0.2222222222222222,
              "#7201a8"
             ],
             [
              0.3333333333333333,
              "#9c179e"
             ],
             [
              0.4444444444444444,
              "#bd3786"
             ],
             [
              0.5555555555555556,
              "#d8576b"
             ],
             [
              0.6666666666666666,
              "#ed7953"
             ],
             [
              0.7777777777777778,
              "#fb9f3a"
             ],
             [
              0.8888888888888888,
              "#fdca26"
             ],
             [
              1,
              "#f0f921"
             ]
            ],
            "type": "heatmap"
           }
          ],
          "heatmapgl": [
           {
            "colorbar": {
             "outlinewidth": 0,
             "ticks": ""
            },
            "colorscale": [
             [
              0,
              "#0d0887"
             ],
             [
              0.1111111111111111,
              "#46039f"
             ],
             [
              0.2222222222222222,
              "#7201a8"
             ],
             [
              0.3333333333333333,
              "#9c179e"
             ],
             [
              0.4444444444444444,
              "#bd3786"
             ],
             [
              0.5555555555555556,
              "#d8576b"
             ],
             [
              0.6666666666666666,
              "#ed7953"
             ],
             [
              0.7777777777777778,
              "#fb9f3a"
             ],
             [
              0.8888888888888888,
              "#fdca26"
             ],
             [
              1,
              "#f0f921"
             ]
            ],
            "type": "heatmapgl"
           }
          ],
          "histogram": [
           {
            "marker": {
             "pattern": {
              "fillmode": "overlay",
              "size": 10,
              "solidity": 0.2
             }
            },
            "type": "histogram"
           }
          ],
          "histogram2d": [
           {
            "colorbar": {
             "outlinewidth": 0,
             "ticks": ""
            },
            "colorscale": [
             [
              0,
              "#0d0887"
             ],
             [
              0.1111111111111111,
              "#46039f"
             ],
             [
              0.2222222222222222,
              "#7201a8"
             ],
             [
              0.3333333333333333,
              "#9c179e"
             ],
             [
              0.4444444444444444,
              "#bd3786"
             ],
             [
              0.5555555555555556,
              "#d8576b"
             ],
             [
              0.6666666666666666,
              "#ed7953"
             ],
             [
              0.7777777777777778,
              "#fb9f3a"
             ],
             [
              0.8888888888888888,
              "#fdca26"
             ],
             [
              1,
              "#f0f921"
             ]
            ],
            "type": "histogram2d"
           }
          ],
          "histogram2dcontour": [
           {
            "colorbar": {
             "outlinewidth": 0,
             "ticks": ""
            },
            "colorscale": [
             [
              0,
              "#0d0887"
             ],
             [
              0.1111111111111111,
              "#46039f"
             ],
             [
              0.2222222222222222,
              "#7201a8"
             ],
             [
              0.3333333333333333,
              "#9c179e"
             ],
             [
              0.4444444444444444,
              "#bd3786"
             ],
             [
              0.5555555555555556,
              "#d8576b"
             ],
             [
              0.6666666666666666,
              "#ed7953"
             ],
             [
              0.7777777777777778,
              "#fb9f3a"
             ],
             [
              0.8888888888888888,
              "#fdca26"
             ],
             [
              1,
              "#f0f921"
             ]
            ],
            "type": "histogram2dcontour"
           }
          ],
          "mesh3d": [
           {
            "colorbar": {
             "outlinewidth": 0,
             "ticks": ""
            },
            "type": "mesh3d"
           }
          ],
          "parcoords": [
           {
            "line": {
             "colorbar": {
              "outlinewidth": 0,
              "ticks": ""
             }
            },
            "type": "parcoords"
           }
          ],
          "pie": [
           {
            "automargin": true,
            "type": "pie"
           }
          ],
          "scatter": [
           {
            "fillpattern": {
             "fillmode": "overlay",
             "size": 10,
             "solidity": 0.2
            },
            "type": "scatter"
           }
          ],
          "scatter3d": [
           {
            "line": {
             "colorbar": {
              "outlinewidth": 0,
              "ticks": ""
             }
            },
            "marker": {
             "colorbar": {
              "outlinewidth": 0,
              "ticks": ""
             }
            },
            "type": "scatter3d"
           }
          ],
          "scattercarpet": [
           {
            "marker": {
             "colorbar": {
              "outlinewidth": 0,
              "ticks": ""
             }
            },
            "type": "scattercarpet"
           }
          ],
          "scattergeo": [
           {
            "marker": {
             "colorbar": {
              "outlinewidth": 0,
              "ticks": ""
             }
            },
            "type": "scattergeo"
           }
          ],
          "scattergl": [
           {
            "marker": {
             "colorbar": {
              "outlinewidth": 0,
              "ticks": ""
             }
            },
            "type": "scattergl"
           }
          ],
          "scattermapbox": [
           {
            "marker": {
             "colorbar": {
              "outlinewidth": 0,
              "ticks": ""
             }
            },
            "type": "scattermapbox"
           }
          ],
          "scatterpolar": [
           {
            "marker": {
             "colorbar": {
              "outlinewidth": 0,
              "ticks": ""
             }
            },
            "type": "scatterpolar"
           }
          ],
          "scatterpolargl": [
           {
            "marker": {
             "colorbar": {
              "outlinewidth": 0,
              "ticks": ""
             }
            },
            "type": "scatterpolargl"
           }
          ],
          "scatterternary": [
           {
            "marker": {
             "colorbar": {
              "outlinewidth": 0,
              "ticks": ""
             }
            },
            "type": "scatterternary"
           }
          ],
          "surface": [
           {
            "colorbar": {
             "outlinewidth": 0,
             "ticks": ""
            },
            "colorscale": [
             [
              0,
              "#0d0887"
             ],
             [
              0.1111111111111111,
              "#46039f"
             ],
             [
              0.2222222222222222,
              "#7201a8"
             ],
             [
              0.3333333333333333,
              "#9c179e"
             ],
             [
              0.4444444444444444,
              "#bd3786"
             ],
             [
              0.5555555555555556,
              "#d8576b"
             ],
             [
              0.6666666666666666,
              "#ed7953"
             ],
             [
              0.7777777777777778,
              "#fb9f3a"
             ],
             [
              0.8888888888888888,
              "#fdca26"
             ],
             [
              1,
              "#f0f921"
             ]
            ],
            "type": "surface"
           }
          ],
          "table": [
           {
            "cells": {
             "fill": {
              "color": "#EBF0F8"
             },
             "line": {
              "color": "white"
             }
            },
            "header": {
             "fill": {
              "color": "#C8D4E3"
             },
             "line": {
              "color": "white"
             }
            },
            "type": "table"
           }
          ]
         },
         "layout": {
          "annotationdefaults": {
           "arrowcolor": "#2a3f5f",
           "arrowhead": 0,
           "arrowwidth": 1
          },
          "autotypenumbers": "strict",
          "coloraxis": {
           "colorbar": {
            "outlinewidth": 0,
            "ticks": ""
           }
          },
          "colorscale": {
           "diverging": [
            [
             0,
             "#8e0152"
            ],
            [
             0.1,
             "#c51b7d"
            ],
            [
             0.2,
             "#de77ae"
            ],
            [
             0.3,
             "#f1b6da"
            ],
            [
             0.4,
             "#fde0ef"
            ],
            [
             0.5,
             "#f7f7f7"
            ],
            [
             0.6,
             "#e6f5d0"
            ],
            [
             0.7,
             "#b8e186"
            ],
            [
             0.8,
             "#7fbc41"
            ],
            [
             0.9,
             "#4d9221"
            ],
            [
             1,
             "#276419"
            ]
           ],
           "sequential": [
            [
             0,
             "#0d0887"
            ],
            [
             0.1111111111111111,
             "#46039f"
            ],
            [
             0.2222222222222222,
             "#7201a8"
            ],
            [
             0.3333333333333333,
             "#9c179e"
            ],
            [
             0.4444444444444444,
             "#bd3786"
            ],
            [
             0.5555555555555556,
             "#d8576b"
            ],
            [
             0.6666666666666666,
             "#ed7953"
            ],
            [
             0.7777777777777778,
             "#fb9f3a"
            ],
            [
             0.8888888888888888,
             "#fdca26"
            ],
            [
             1,
             "#f0f921"
            ]
           ],
           "sequentialminus": [
            [
             0,
             "#0d0887"
            ],
            [
             0.1111111111111111,
             "#46039f"
            ],
            [
             0.2222222222222222,
             "#7201a8"
            ],
            [
             0.3333333333333333,
             "#9c179e"
            ],
            [
             0.4444444444444444,
             "#bd3786"
            ],
            [
             0.5555555555555556,
             "#d8576b"
            ],
            [
             0.6666666666666666,
             "#ed7953"
            ],
            [
             0.7777777777777778,
             "#fb9f3a"
            ],
            [
             0.8888888888888888,
             "#fdca26"
            ],
            [
             1,
             "#f0f921"
            ]
           ]
          },
          "colorway": [
           "#636efa",
           "#EF553B",
           "#00cc96",
           "#ab63fa",
           "#FFA15A",
           "#19d3f3",
           "#FF6692",
           "#B6E880",
           "#FF97FF",
           "#FECB52"
          ],
          "font": {
           "color": "#2a3f5f"
          },
          "geo": {
           "bgcolor": "white",
           "lakecolor": "white",
           "landcolor": "white",
           "showlakes": true,
           "showland": true,
           "subunitcolor": "#C8D4E3"
          },
          "hoverlabel": {
           "align": "left"
          },
          "hovermode": "closest",
          "mapbox": {
           "style": "light"
          },
          "paper_bgcolor": "white",
          "plot_bgcolor": "white",
          "polar": {
           "angularaxis": {
            "gridcolor": "#EBF0F8",
            "linecolor": "#EBF0F8",
            "ticks": ""
           },
           "bgcolor": "white",
           "radialaxis": {
            "gridcolor": "#EBF0F8",
            "linecolor": "#EBF0F8",
            "ticks": ""
           }
          },
          "scene": {
           "xaxis": {
            "backgroundcolor": "white",
            "gridcolor": "#DFE8F3",
            "gridwidth": 2,
            "linecolor": "#EBF0F8",
            "showbackground": true,
            "ticks": "",
            "zerolinecolor": "#EBF0F8"
           },
           "yaxis": {
            "backgroundcolor": "white",
            "gridcolor": "#DFE8F3",
            "gridwidth": 2,
            "linecolor": "#EBF0F8",
            "showbackground": true,
            "ticks": "",
            "zerolinecolor": "#EBF0F8"
           },
           "zaxis": {
            "backgroundcolor": "white",
            "gridcolor": "#DFE8F3",
            "gridwidth": 2,
            "linecolor": "#EBF0F8",
            "showbackground": true,
            "ticks": "",
            "zerolinecolor": "#EBF0F8"
           }
          },
          "shapedefaults": {
           "line": {
            "color": "#2a3f5f"
           }
          },
          "ternary": {
           "aaxis": {
            "gridcolor": "#DFE8F3",
            "linecolor": "#A2B1C6",
            "ticks": ""
           },
           "baxis": {
            "gridcolor": "#DFE8F3",
            "linecolor": "#A2B1C6",
            "ticks": ""
           },
           "bgcolor": "white",
           "caxis": {
            "gridcolor": "#DFE8F3",
            "linecolor": "#A2B1C6",
            "ticks": ""
           }
          },
          "title": {
           "x": 0.05
          },
          "xaxis": {
           "automargin": true,
           "gridcolor": "#EBF0F8",
           "linecolor": "#EBF0F8",
           "ticks": "",
           "title": {
            "standoff": 15
           },
           "zerolinecolor": "#EBF0F8",
           "zerolinewidth": 2
          },
          "yaxis": {
           "automargin": true,
           "gridcolor": "#EBF0F8",
           "linecolor": "#EBF0F8",
           "ticks": "",
           "title": {
            "standoff": 15
           },
           "zerolinecolor": "#EBF0F8",
           "zerolinewidth": 2
          }
         }
        },
        "title": {
         "text": "Number of Movies in Each Category"
        },
        "xaxis": {
         "title": {
          "text": "Number of Movies"
         }
        },
        "yaxis": {
         "autorange": "reversed",
         "title": {
          "text": "Category"
         }
        }
       }
      }
     },
     "metadata": {},
     "output_type": "display_data"
    }
   ],
   "source": [
    "# We get the number of movies in each category.\n",
    "initial_number_of_movies = len(movie_metadata)\n",
    "initial_number_of_movies_in_plot_summaries = len(plot_summaries)\n",
    "initial_number_of_movies_in_cities = len(set([movie for city in cities_movies for movie in cities_movies[city]]))\n",
    "initial_number_of_movies_in_countries = len(set([movie for country in countries_movies for movie in countries_movies[country]]))\n",
    "\n",
    "categories = ['Number of movies with metadata information', \n",
    "              'Movies with plot summaries', \n",
    "              'Movies with city present', \n",
    "              'Movies with country present']\n",
    "values = [initial_number_of_movies, \n",
    "          initial_number_of_movies_in_plot_summaries, \n",
    "          initial_number_of_movies_in_cities, \n",
    "          initial_number_of_movies_in_countries]\n",
    "\n",
    "# Sorting data\n",
    "sorted_categories, sorted_values = zip(*sorted(zip(categories, values), key=lambda x: x[1], reverse=True))\n",
    "\n",
    "# Creating the bar chart\n",
    "fig = go.Figure(data=[\n",
    "    go.Bar(\n",
    "        x=sorted_values,\n",
    "        y=sorted_categories,\n",
    "        orientation='h',\n",
    "        text=[f'{value:,}' for value in sorted_values],\n",
    "        textposition='auto',\n",
    "        marker_color=px.colors.qualitative.Set2,\n",
    "        hoverinfo='none'\n",
    "    )\n",
    "])\n",
    "\n",
    "# Updating layout\n",
    "fig.update_layout(\n",
    "    title='Number of Movies in Each Category',\n",
    "    xaxis_title='Number of Movies',\n",
    "    yaxis_title='Category',\n",
    "    yaxis=dict(autorange=\"reversed\"),\n",
    "    template=\"plotly_white\"\n",
    ")\n",
    "\n",
    "# Saving the figure as an HTML file\n",
    "fig.write_html('web/plots/number_of_movies.html')\n",
    "fig.show()"
   ]
  },
  {
   "cell_type": "markdown",
   "metadata": {},
   "source": [
    "### Distribution"
   ]
  },
  {
   "cell_type": "markdown",
   "metadata": {},
   "source": [
    "Here we have a look at how the data we have acquired is distributed over the countries."
   ]
  },
  {
   "cell_type": "code",
   "execution_count": 4,
   "metadata": {},
   "outputs": [],
   "source": [
    "# Initialize lists to store latitudes, longitudes, and sizes\n",
    "lats, lngs, sizes, found_countries = [], [], [], []\n",
    "\n",
    "# Loop over the countries and geocode them\n",
    "for country, movies in countries_movies.items():\n",
    "    geocode_result = gmaps.geocode(country)\n",
    "    if geocode_result:\n",
    "        lat = geocode_result[0][\"geometry\"][\"location\"][\"lat\"]\n",
    "        lng = geocode_result[0][\"geometry\"][\"location\"][\"lng\"]\n",
    "        lats.append(lat)\n",
    "        lngs.append(lng)\n",
    "        sizes.append(len(movies))\n",
    "        found_countries.append(country)"
   ]
  },
  {
   "cell_type": "markdown",
   "metadata": {},
   "source": [
    "We will now plot this data into a two sided plot showing a map but also a bar chart."
   ]
  },
  {
   "cell_type": "code",
   "execution_count": null,
   "metadata": {},
   "outputs": [],
   "source": [
    "# Number of countries to show in the bar chart\n",
    "top_n = 10\n",
    "\n",
    "# We sort the countries by the number of movies.\n",
    "sorted_data = sorted(zip(found_countries, sizes), key=lambda x: x[1], reverse=True)[:top_n]\n",
    "sorted_countries, sorted_sizes = zip(*sorted_data)\n",
    "\n",
    "# The hover text for the map\n",
    "map_hover_text = [f'{country}: {size} movies' for country, size in zip(found_countries, sizes)]\n",
    "\n",
    "# Creating the figure\n",
    "fig = make_subplots(\n",
    "    rows=1, cols=2,\n",
    "    column_widths=[0.7, 0.3],  \n",
    "    specs=[[{'type': 'scattergeo'}, {'type': 'bar'}]]\n",
    ")\n",
    "\n",
    "# Adding the map\n",
    "fig.add_trace(\n",
    "    go.Scattergeo(\n",
    "        lon=lngs,\n",
    "        lat=lats,\n",
    "        text=map_hover_text,\n",
    "        mode='markers',\n",
    "        marker=dict(\n",
    "            size=[size / 10 for size in sizes],  \n",
    "            opacity=0.8,\n",
    "            color='red',\n",
    "            line=dict(width=0),\n",
    "            sizemode='area'\n",
    "        ),\n",
    "        hoverinfo='text'\n",
    "    ),\n",
    "    row=1, col=1\n",
    ")\n",
    "\n",
    "# Adding the bar chart\n",
    "fig.add_trace(\n",
    "    go.Bar(\n",
    "        x=list(reversed(sorted_sizes)),\n",
    "        y=list(reversed(sorted_countries)),\n",
    "        orientation='h',\n",
    "        text=list(reversed(sorted_sizes)),\n",
    "        textposition='auto',\n",
    "        marker_color=px.colors.qualitative.Plotly,\n",
    "        hoverinfo='none',\n",
    "    ),\n",
    "    row=1, col=2\n",
    ")\n",
    "\n",
    "\n",
    "fig.update_geos(\n",
    "    projection_type=\"natural earth\",\n",
    "    showcountries=True,\n",
    "    showland=True,\n",
    "    landcolor='lightgrey',\n",
    "    showocean=True,\n",
    "    oceancolor='lightblue',\n",
    "    row=1, col=1,\n",
    ")\n",
    "\n",
    "\n",
    "fig.update_layout(\n",
    "    barmode='group',\n",
    "    bargap=0.15,  \n",
    "    title_text=\"World Map with Movie Locations and Top Countries\",\n",
    "    showlegend=False\n",
    ")\n",
    "\n",
    "\n",
    "# Saving the figure as an HTML file\n",
    "fig.write_html('web/plots/interactive_movie_locations.html')\n",
    "fig.show()"
   ]
  },
  {
   "cell_type": "markdown",
   "metadata": {},
   "source": [
    "### Genre analysis"
   ]
  },
  {
   "cell_type": "code",
   "execution_count": null,
   "metadata": {},
   "outputs": [],
   "source": [
    "locations_to_remove = [\"Brooklyn\", \"Hollywood\", \"Manhattan\", \"California\"]\n",
    "\n",
    "for location in locations_to_remove:\n",
    "    cities_movies.pop(location, None)"
   ]
  },
  {
   "cell_type": "code",
   "execution_count": null,
   "metadata": {},
   "outputs": [],
   "source": [
    "def get_genres_by_location(locations_movies, movie_metadata):\n",
    "    location_genre_count = {}\n",
    "\n",
    "    for location, movie_ids in locations_movies.items():\n",
    "        genre_count = {}\n",
    "\n",
    "        for movie_id in movie_ids:\n",
    "            genres_series = movie_metadata.loc[movie_metadata[\"Wikipedia movie ID\"] == int(movie_id), \"Movie genres (Freebase ID:name tuples)\"]\n",
    "            if not genres_series.empty:\n",
    "                genres_str = genres_series.values[0]\n",
    "                genres = list(ast.literal_eval(genres_str).values())\n",
    "\n",
    "                for genre_name in genres:\n",
    "                    genre_count[genre_name] = genre_count.get(genre_name, 0) + 1\n",
    "\n",
    "        location_genre_count[location] = genre_count\n",
    "\n",
    "    return location_genre_count\n"
   ]
  },
  {
   "cell_type": "code",
   "execution_count": null,
   "metadata": {},
   "outputs": [],
   "source": [
    "city_genre = get_genres_by_location(cities_movies, movie_metadata)\n",
    "country_genre = get_genres_by_location(countries_movies, movie_metadata)"
   ]
  },
  {
   "cell_type": "code",
   "execution_count": null,
   "metadata": {},
   "outputs": [],
   "source": [
    "GENRE_SIGNIFICANCE_THRESHOLD = 0.03  # Threshold for genre representation\n",
    "\n",
    "def hash_color(genre, s=0.5):\n",
    "    hash = hashlib.md5(genre.encode()).hexdigest()\n",
    "    r, g, b = int(hash[0:2], 16), int(hash[2:4], 16), int(hash[4:6], 16)\n",
    "    r, g, b = [int(s * val + (1 - s) * 255) for val in (r, g, b)]\n",
    "    return f'#{r:02x}{g:02x}{b:02x}'\n"
   ]
  },
  {
   "cell_type": "code",
   "execution_count": null,
   "metadata": {},
   "outputs": [],
   "source": [
    "def visualize_genres(location, genres, set_visible=False):\n",
    "    total_count = sum(genres.values())\n",
    "    filtered_genres_counts = {\n",
    "        genre: (count / total_count) * 100\n",
    "        for genre, count in genres.items()\n",
    "        if (count / total_count) >= GENRE_SIGNIFICANCE_THRESHOLD\n",
    "    }\n",
    "    sorted_genres_counts = dict(sorted(filtered_genres_counts.items(), key=lambda item: item[1], reverse=True))\n",
    "\n",
    "    bar_colors = [hash_color(genre) for genre in sorted_genres_counts.keys()]\n",
    "\n",
    "    genre_counts = [genres[genre] for genre in sorted_genres_counts.keys()]\n",
    "\n",
    "    trace = go.Bar(\n",
    "        x=list(sorted_genres_counts.keys()),\n",
    "        y=list(sorted_genres_counts.values()),\n",
    "        marker=dict(color=bar_colors),\n",
    "        visible=set_visible,\n",
    "        width=0.3, \n",
    "        text=[f'{value:.2f}%' for value in sorted_genres_counts.values()],\n",
    "        textposition='outside',\n",
    "        customdata=genre_counts,\n",
    "        name=location,\n",
    "        hovertemplate='%{x}<br>%{y:.2f}%<br>Movies: %{customdata}<extra></extra>'\n",
    "    )\n",
    "\n",
    "    return trace"
   ]
  },
  {
   "cell_type": "code",
   "execution_count": null,
   "metadata": {},
   "outputs": [],
   "source": [
    "china_trace = visualize_genres('China', country_genre['China'], set_visible=True)\n",
    "japan_trace = visualize_genres('Japan', country_genre['Japan'])\n",
    "india_trace = visualize_genres('India', country_genre['India'])\n",
    "germany_trace = visualize_genres('Germany', country_genre['Germany'])\n",
    "north_korea_trace = visualize_genres('North Korea', country_genre['North Korea'])\n",
    "france_trace = visualize_genres('France', country_genre['France'])\n",
    "ussr_trace = visualize_genres('Soviet Union', country_genre['USSR'])\n",
    "romania_trace = visualize_genres('Romania', country_genre['Romania'])\n",
    "vietnam_trace = visualize_genres('Vietnam', country_genre['Vietnam'])\n",
    "afghanistan_trace = visualize_genres('Afghanistan', country_genre['Afghanistan'])\n",
    "\n",
    "fig = go.Figure()\n",
    "fig.add_traces([china_trace, japan_trace, india_trace, germany_trace, north_korea_trace, france_trace, ussr_trace, romania_trace, vietnam_trace, afghanistan_trace])\n",
    "\n",
    "fig.update_layout(\n",
    "    xaxis=dict(\n",
    "        tickangle=45 \n",
    "    )\n",
    ")\n",
    "\n",
    "num_traces = len(fig.data)\n",
    "visibility_states = [[False] * num_traces for _ in range(num_traces)]\n",
    "\n",
    "for i in range(num_traces):\n",
    "    visibility_states[i][i] = True\n",
    "\n",
    "buttons = [\n",
    "    dict(method='update',\n",
    "         label=fig.data[i].name, \n",
    "         args=[{'visible': visibility_states[i]},\n",
    "               {'title': f'Genre Distribution for {fig.data[i].name}'}])\n",
    "    for i in range(num_traces)\n",
    "]\n",
    "\n",
    "fig.update_layout(\n",
    "    updatemenus=[{\n",
    "        'buttons': buttons,\n",
    "        'direction': 'down',\n",
    "        'showactive': True,\n",
    "    }]\n",
    ")\n",
    "\n",
    "fig.show()\n"
   ]
  },
  {
   "cell_type": "markdown",
   "metadata": {},
   "source": [
    "We will now verify that the genre differences are meaningful!"
   ]
  },
  {
   "cell_type": "code",
   "execution_count": null,
   "metadata": {},
   "outputs": [],
   "source": [
    "# We calculate the percentage of movies in each genre for each country.\n",
    "percentages_by_country = {\n",
    "    country: {\n",
    "        genre: (count / sum(genre_counts.values()))\n",
    "        for genre, count in genre_counts.items()\n",
    "    }\n",
    "    for country, genre_counts in country_genre.items()\n",
    "}\n",
    "\n",
    "# We use a hypothetical total of 1000 movies to calculate the expected counts.\n",
    "hypothetical_total = 1000\n",
    "country_genre_counts = {country: {genre: pct * hypothetical_total for genre, pct in genres.items()}\n",
    "                        for country, genres in percentages_by_country.items()}\n",
    "\n",
    "\n",
    "df_country_genre_counts = pd.DataFrame(country_genre_counts).fillna(0)\n",
    "\n",
    "# Calculate the Chi-Square Test of Independence\n",
    "chi2, p, dof, expected = chi2_contingency(df_country_genre_counts)\n",
    "\n",
    "print(f\"Chi-Square Statistic: {chi2}\")\n",
    "print(f\"P-value: {p}\")\n",
    "print(f\"Degrees of Freedom: {dof}\")\n",
    "\n",
    "if p < 0.05:\n",
    "    print(\"Reject null hypothesis\")"
   ]
  },
  {
   "cell_type": "markdown",
   "metadata": {},
   "source": [
    "### Embeddings"
   ]
  },
  {
   "cell_type": "markdown",
   "metadata": {},
   "source": [
    "Embeddings are highly dimensional vectors that represent meaning of a piece of text.\n",
    "We have utilised embeddings in our project in order to observe small fluctuations in movie preferences of countries over time but also for cluster analysis and comparison of different countries."
   ]
  },
  {
   "cell_type": "code",
   "execution_count": null,
   "metadata": {},
   "outputs": [],
   "source": [
    "# We show the embedding of a random movie\n",
    "random_movie = np.random.choice(len(embeddings))\n",
    "embedding_to_visualize = embeddings[random_movie]\n",
    "embedding_to_visualize = np.array([round(value, 3) for value in embedding_to_visualize])\n",
    "\n",
    "fig, ax = plt.subplots(figsize=(10, 1))\n",
    "ax.text(0.5, 0.5, str(embedding_to_visualize), fontsize=16, va='center', ha='center')\n",
    "# Title should be down a bit\n",
    "ax.set_title(f'Embedding Vector (1536 Dimensions)', fontsize=16)\n",
    "ax.axis('off')\n",
    "plt.savefig('web/plots/embedding.png', bbox_inches='tight')\n",
    "plt.show()"
   ]
  },
  {
   "cell_type": "markdown",
   "metadata": {},
   "source": [
    "In order to visualize embeddings which are usually 1536 dimensional we will need to bring them down to 2 dimensions. We will do this by using the TSNE algorithm."
   ]
  },
  {
   "cell_type": "code",
   "execution_count": 11,
   "metadata": {},
   "outputs": [],
   "source": [
    "# We calculate the T-SNE embedding of all movies\n",
    "tsne = TSNE(n_components=2, random_state=0)\n",
    "tsne_obj = tsne.fit_transform(embeddings) if not os.path.exists('data/tsne.npy') else np.load('data/tsne.npy')\n",
    "\n",
    "# We save the T-SNE embedding\n",
    "np.save('data/tsne.npy', tsne_obj)"
   ]
  },
  {
   "cell_type": "markdown",
   "metadata": {},
   "source": [
    "We will now look at search terms in our embedding space!"
   ]
  },
  {
   "cell_type": "code",
   "execution_count": null,
   "metadata": {},
   "outputs": [],
   "source": [
    "# List of search terms to consider\n",
    "search_terms = [\"War\", \"Love\", \"Bollywood\", \"Horror\"]\n",
    "\n",
    "# We get the embeddings for each search term\n",
    "search_terms_embeddings = [get_embedding(term) for term in search_terms]\n",
    "\n",
    "# Calculate cosine similarities for each search term\n",
    "cosine_similarities_dict = {}\n",
    "for term, search_embedding in zip(search_terms, search_terms_embeddings):\n",
    "    cosine_similarities_dict[term] = np.dot(embeddings, search_embedding)\n",
    "\n",
    "# We get all movie names for each movie that has an embedding\n",
    "movie_names = get_movie_names_from_ids(combined_plot_summaries['Wikipedia movie ID'].values, movie_metadata)\n",
    "\n",
    "# Initial plot with the first search term\n",
    "initial_term = search_terms[0]\n",
    "tsne_df = pd.DataFrame({'X': tsne_obj[:, 0], 'Y': tsne_obj[:, 1], 'Movie': movie_names, 'Color': cosine_similarities_dict[initial_term]})"
   ]
  },
  {
   "cell_type": "markdown",
   "metadata": {},
   "source": [
    "We will now plot the embeddings and their similarities to the search terms"
   ]
  },
  {
   "cell_type": "code",
   "execution_count": null,
   "metadata": {},
   "outputs": [],
   "source": [
    "# We now plot the T-SNE embedding\n",
    "fig = go.Figure(data=go.Scattergl(\n",
    "    x=tsne_df['X'], \n",
    "    y=tsne_df['Y'],\n",
    "    mode='markers',\n",
    "    marker=dict(\n",
    "        color=tsne_df['Color'],\n",
    "        colorscale='RdBu',\n",
    "        colorbar=dict(title='Cosine Similarity')\n",
    "    ),\n",
    "    text=tsne_df['Movie'],\n",
    "    hoverinfo='text'\n",
    "))\n",
    "\n",
    "# Dropdown menu for switching between terms\n",
    "fig.update_layout(\n",
    "    title=f'T-SNE plot of movie embeddings for search of {initial_term}',\n",
    "    xaxis_title='T-SNE Dimension 1',\n",
    "    yaxis_title='T-SNE Dimension 2',\n",
    "    updatemenus=[\n",
    "        dict(\n",
    "            active=0,\n",
    "            buttons=list(\n",
    "                [\n",
    "                    dict(\n",
    "                        label=term,\n",
    "                        method=\"update\",\n",
    "                        args=[{\"marker.color\": [cosine_similarities_dict[term]]},\n",
    "                              {\"title\": f'T-SNE plot of movie embeddings for search of {term}'}]\n",
    "                    ) for term in search_terms\n",
    "                ]\n",
    "            )\n",
    "        )\n",
    "    ]\n",
    ")\n",
    "\n",
    "# We save the figure as an HTML file\n",
    "fig.show()\n",
    "fig.write_html(\"web/plots/tsne.html\", include_plotlyjs=\"cdn\")"
   ]
  },
  {
   "cell_type": "markdown",
   "metadata": {},
   "source": [
    "Lets observe a number of countries and examine how their clusters look like"
   ]
  },
  {
   "cell_type": "code",
   "execution_count": null,
   "metadata": {},
   "outputs": [],
   "source": [
    "# We hardcode some countries to check.\n",
    "countries_to_check = [\n",
    "    'France',\n",
    "    'Germany',\n",
    "    'Italy',\n",
    "    'Spain',\n",
    "    'China',\n",
    "    'Vietnam',\n",
    "    'Japan',\n",
    "    'India',\n",
    "    'South Korea',\n",
    "    'United States',\n",
    "    'United Kingdom',\n",
    "    'Russia',\n",
    "]\n",
    "\n",
    "# We get all movies in these countries.\n",
    "movies_in_countries_to_check = [countries_movies[country] for country in countries_to_check]\n",
    "\n",
    "colors = ['red', 'blue', 'green', 'orange', 'purple', 'brown', 'pink', 'gray', 'olive', 'cyan', 'magenta', 'yellow']*100\n",
    "# We get the embeddings of these movies from T-SNE by using the indices in combined_plot_summaries.\n",
    "tsne_movies_in_countries_to_check = [tsne_obj[combined_plot_summaries[combined_plot_summaries['Wikipedia movie ID'].isin(movies)].index] for movies in movies_in_countries_to_check]\n",
    "data = {}\n",
    "for i, country in enumerate(countries_to_check):\n",
    "    country_movies = tsne_movies_in_countries_to_check[i]\n",
    "    movie_names = get_movie_names_from_ids(movies_in_countries_to_check[i], movie_metadata)\n",
    "    \n",
    "    x_country, y_country = [movie[0] for movie in country_movies], [movie[1] for movie in country_movies]\n",
    "    data[country] = {'x': x_country, 'y': y_country, 'color': colors[i], 'names': movie_names}"
   ]
  },
  {
   "cell_type": "code",
   "execution_count": null,
   "metadata": {},
   "outputs": [],
   "source": [
    "# Create the main figure\n",
    "fig = go.Figure()\n",
    "\n",
    "# Function that computes the KDE for a set of points\n",
    "def compute_kde(x, y):\n",
    "    kde = gaussian_kde(np.vstack([x, y]))\n",
    "    x_grid, y_grid = np.mgrid[min(x)-20:max(x) + 20 :100j, min(y)-20:max(y) + 20:100j]\n",
    "    z = kde(np.vstack([x_grid.ravel(), y_grid.ravel()]))\n",
    "    x_grid = x_grid.ravel()\n",
    "    y_grid = y_grid.ravel()\n",
    "    return x_grid, y_grid, z.reshape(x_grid.shape)\n",
    "\n",
    "# We add our initial trace with all movies\n",
    "fig.add_trace(go.Scattergl(x=tsne_obj[:, 0], y=tsne_obj[:, 1], mode='markers', \n",
    "                           marker=dict(color='gray', opacity=0.1), \n",
    "                           name='All Movies', \n",
    "                           hoverinfo='skip'))\n",
    "\n",
    "# Add traces for each country\n",
    "for i, (country, values) in enumerate(data.items()):\n",
    "    # Compute KDE for the country\n",
    "    x_grid, y_grid, z = compute_kde(values['x'], values['y'])\n",
    "\n",
    "    # We add both a point trace and a contour trace for each country\n",
    "    fig.add_trace(go.Scattergl(x=values['x'], y=values['y'], mode='markers', \n",
    "                               marker=dict(color='blue'), \n",
    "                               visible=(i == 0), \n",
    "                               opacity=0.4,\n",
    "                               name=f'Movies in {country}',\n",
    "                               text=values['names'],\n",
    "                               hoverinfo='text'))\n",
    "    \n",
    "    fig.add_trace(go.Contour(x=x_grid, y=y_grid, z=z, \n",
    "                             showscale=False, visible=(i == 0), \n",
    "                             colorscale='Blues', \n",
    "                             opacity=1, \n",
    "                             ncontours=10,\n",
    "                             hoverinfo='skip',\n",
    "                             contours=dict(coloring='fill', showlines=True),\n",
    "                             name=f'{country} Density'))\n",
    "\n",
    "# We add a dropdown menu to switch between countries\n",
    "dropdown_buttons = [\n",
    "    dict(method='update',\n",
    "         label=country,\n",
    "         args=[{'visible': [True] + [j == i*2 or j == i*2 + 1 for j in range(2 * len(countries_to_check))]},\n",
    "               {'title': f'T-SNE of Movies - Highlighting {country}'}])\n",
    "    for i, country in enumerate(countries_to_check)\n",
    "]\n",
    "\n",
    "fig.update_layout(\n",
    "    updatemenus=[\n",
    "        dict(\n",
    "            buttons=dropdown_buttons,\n",
    "            direction='down',\n",
    "            showactive=True,\n",
    "            xanchor='right',\n",
    "            yanchor='top',\n",
    "            bgcolor='white',\n",
    "            bordercolor='black',\n",
    "            font=dict(size=12, color='black')\n",
    "        ),\n",
    "    ],\n",
    "    title='Interactive T-SNE of Movies - Highlighting {}'.format(countries_to_check[0]),\n",
    "    xaxis_title='t-SNE Axis 1',\n",
    "    yaxis_title='t-SNE Axis 2',\n",
    ")\n",
    "\n",
    "# Save as html file\n",
    "fig.write_html(\"web/plots/tsne_countries.html\", include_plotlyjs=\"cdn\")\n",
    "\n",
    "# Show the figure\n",
    "fig.show()"
   ]
  },
  {
   "cell_type": "markdown",
   "metadata": {},
   "source": [
    "### IMDB Ratings"
   ]
  },
  {
   "cell_type": "markdown",
   "metadata": {},
   "source": [
    "Here we will explore how imdb ratings are influenced by the location, looking at countries and continents."
   ]
  },
  {
   "cell_type": "markdown",
   "metadata": {},
   "source": [
    "Here we setup the data for the imdb ratings and create the required dataframes"
   ]
  },
  {
   "cell_type": "code",
   "execution_count": null,
   "metadata": {},
   "outputs": [],
   "source": [
    "movie_ratings = pd.read_csv(DATA_PATH + \"title.ratings.tsv\", sep=\"\\t\")\n",
    "\n",
    "movie_ratings[\"tconst\"] = movie_ratings[\"tconst\"].apply(lambda ttconst: ttconst[2:])\n",
    "movie_ratings.rename(columns={\"tconst\": \"imdb_id\"}, inplace=True)\n",
    "\n",
    "imdb_data = pd.read_csv(DATA_PATH + \"movie_imdb.csv\")\n",
    "imdb_data_rating = imdb_data.dropna(subset=[\"imdb_rating\"])\n",
    "imdb_data_rating.drop(columns=[\"filming_locations\", \"imdb_rating\"], inplace=True)\n",
    "imdb_data_rating = imdb_data_rating.merge(movie_ratings, on=\"imdb_id\")\n",
    "\n",
    "movie_to_cities = {\"Wikipedia movie ID\": [], \"City\": []}\n",
    "movie_to_cities_dict = {}\n",
    "\n",
    "for city in cities_movies:\n",
    "    for movie_id in cities_movies[city]:\n",
    "        if movie_id not in movie_to_cities_dict:\n",
    "            movie_to_cities_dict[movie_id] = {\"cities\": None}\n",
    "        if movie_to_cities_dict[movie_id][\"cities\"] is None:\n",
    "            movie_to_cities_dict[movie_id][\"cities\"] = city\n",
    "        else:\n",
    "            movie_to_cities_dict[movie_id][\"cities\"] = movie_to_cities_dict[movie_id][\"cities\"] + \"|\" + city\n",
    "\n",
    "            \n",
    "for key in movie_to_cities_dict:\n",
    "    for city in movie_to_cities_dict[key][\"cities\"].split(\"|\"):\n",
    "        movie_to_cities[\"Wikipedia movie ID\"].append(key)\n",
    "        movie_to_cities[\"City\"].append(city)\n",
    "        \n",
    "movies_to_countries = {\"Wikipedia movie ID\": [], \"Country\": []}\n",
    "movies_to_countries_dict = {}\n",
    "\n",
    "for country in countries_movies:\n",
    "    for movie_id in countries_movies[country]:\n",
    "        if movie_id not in movies_to_countries_dict:\n",
    "            movies_to_countries_dict[movie_id] = {\"countries\": None}\n",
    "        if movies_to_countries_dict[movie_id][\"countries\"] is None:\n",
    "            movies_to_countries_dict[movie_id][\"countries\"] = country\n",
    "        else:\n",
    "            movies_to_countries_dict[movie_id][\"countries\"] = movies_to_countries_dict[movie_id][\"countries\"] + \"|\" + country\n",
    "            \n",
    "for key in movies_to_countries_dict:\n",
    "    for country in movies_to_countries_dict[key][\"countries\"].split(\"|\"):\n",
    "        movies_to_countries[\"Wikipedia movie ID\"].append(key)\n",
    "        movies_to_countries[\"Country\"].append(country)\n",
    "\n",
    "city_imdb = imdb_data_rating.merge(pd.DataFrame.from_dict(movie_to_cities), on=\"Wikipedia movie ID\")\n",
    "country_imdb = imdb_data_rating.merge(pd.DataFrame.from_dict(movies_to_countries), on=\"Wikipedia movie ID\")\n",
    "\n",
    "city_imdb_with_genres = city_imdb.merge(movie_metadata, on=\"Wikipedia movie ID\")\n",
    "city_imdb_with_genres[\"Movie genres (Freebase ID:name tuples)\"] = city_imdb_with_genres[\"Movie genres (Freebase ID:name tuples)\"].apply(lambda genres: ast.literal_eval(genres).values())\n",
    "city_imdb_with_genres.drop(columns=[\"Freebase movie ID\", \"Movie name\", \"Movie release date\", \"Movie runtime\", \"Movie languages (Freebase ID:name tuples)\", \"Movie countries (Freebase ID:name tuples)\", \"Movie box office revenue\"], inplace=True)\n",
    "city_imdb_with_genres.rename(columns={\"Movie genres (Freebase ID:name tuples)\": \"genres\"}, inplace=True)\n",
    "\n",
    "country_imdb_with_genres = country_imdb.merge(movie_metadata, on=\"Wikipedia movie ID\")\n",
    "country_imdb_with_genres[\"Movie genres (Freebase ID:name tuples)\"] = country_imdb_with_genres[\"Movie genres (Freebase ID:name tuples)\"].apply(lambda genres: ast.literal_eval(genres).values())\n",
    "country_imdb_with_genres.drop(columns=[\"Freebase movie ID\", \"Movie name\", \"Movie release date\", \"Movie runtime\", \"Movie languages (Freebase ID:name tuples)\", \"Movie countries (Freebase ID:name tuples)\", \"Movie box office revenue\"], inplace=True)\n",
    "country_imdb_with_genres.rename(columns={\"Movie genres (Freebase ID:name tuples)\": \"genres\"}, inplace=True)\n",
    "\n",
    "def filter_genres_by_list(genres, genres_list):\n",
    "    return any(genre in genres for genre in genres_list)\n",
    "\n",
    "def imdb_rating_scaled_and_votes(group):\n",
    "    votes = group['numVotes']\n",
    "    ratings = group['averageRating']\n",
    "    max_votes = votes.max()\n",
    "    normalized_votes = votes / max_votes if max_votes else 0\n",
    "    #weighted_average = np.sum(ratings * normalized_votes) / np.sum(normalized_votes) if max_votes else 0\n",
    "    weighted_average = np.mean(ratings) # just take the mean as of now\n",
    "    total_votes = np.sum(votes)\n",
    "    num_movies = len(ratings)\n",
    "    return pd.Series({'imdb_rating': weighted_average, 'number_of_votes': total_votes, 'number_of_movies': num_movies})\n",
    "\n",
    "def get_city_imdb_ratings(city_imdb, genres=None):\n",
    "    if genres is None:\n",
    "        return city_imdb.groupby('City').apply(imdb_rating_scaled_and_votes).reset_index()\n",
    "    else:\n",
    "        filtered = city_imdb[city_imdb['genres'].apply(lambda x: filter_genres_by_list(x, genres))]\n",
    "        return filtered.groupby('City').apply(imdb_rating_scaled_and_votes).reset_index()\n",
    "    \n",
    "    \n",
    "def get_list_of_movies_in_cities_by_genres(city_imdb, genres=None):\n",
    "    grouped_stuff = []\n",
    "    if genres is None:\n",
    "        grouped_stuff =  city_imdb.groupby('City')\n",
    "    else:\n",
    "        grouped_stuff = city_imdb[city_imdb['genres'].apply(lambda x: filter_genres_by_list(x, genres))].groupby('City')\n",
    "    \n",
    "    # We return a dictionary mapping cities to a list of movies.\n",
    "    return {city: list(group['averageRating']) for city, group in grouped_stuff}\n",
    "\n",
    "def get_list_of_movies_in_countries_by_genres(country_imdb, genres=None):\n",
    "    grouped_stuff = []\n",
    "    if genres is None:\n",
    "        grouped_stuff =  country_imdb.groupby('Country')\n",
    "    else:\n",
    "        grouped_stuff = country_imdb[country_imdb['genres'].apply(lambda x: filter_genres_by_list(x, genres))].groupby('Country')\n",
    "    \n",
    "    # We return a dictionary mapping cities to a list of movies.\n",
    "    return {city: list(group['averageRating']) for city, group in grouped_stuff}\n",
    "\n",
    "\n",
    "\n",
    "@functools.lru_cache(maxsize=512)\n",
    "def get_continent(city_name):\n",
    "    geocode_result = gmaps.geocode(city_name)\n",
    "    \n",
    "    if len(geocode_result) == 0:\n",
    "        return None\n",
    "    for address_component in geocode_result[0]['address_components']:\n",
    "        if 'country' in address_component['types']:\n",
    "            country_name = address_component['short_name']\n",
    "            return continent_mapping[country_name]"
   ]
  },
  {
   "cell_type": "markdown",
   "metadata": {},
   "source": [
    "We will first take a look at continents taking into account genres and show if the results are significant."
   ]
  },
  {
   "cell_type": "code",
   "execution_count": null,
   "metadata": {},
   "outputs": [],
   "source": [
    "# The genres we want to check. None represents all genres.\n",
    "genres_to_check = [\n",
    "    None,\n",
    "    'Drama',\n",
    "    'War film',\n",
    "    'Martial Arts Film',\n",
    "    'Romantic drama',\n",
    "    'Comedy',\n",
    "    'Horror',\n",
    "]\n",
    "\n",
    "results_to_show, significance_results_pairs = [], []\n",
    "\n",
    "# For each genre we will compute the results to show but also an ANOVA test and a Tukey HSD test.\n",
    "for genre in genres_to_check:\n",
    "    # We get the movies from this genre in each country\n",
    "    movies_in_countries = get_list_of_movies_in_countries_by_genres(country_imdb_with_genres, [genre] if genre is not None else None)\n",
    "    # We get their continents.\n",
    "    continents = [get_continent(country) for country in movies_in_countries]\n",
    "    \n",
    "    # We remove Antarctica.\n",
    "    if 'Antarctica' in continents:\n",
    "        continents.remove('Antarctica')\n",
    "        \n",
    "    # We merge the movies in each continent.\n",
    "    movies_in_continents = {continent: [] for continent in set(continents)}\n",
    "\n",
    "    for i, continent in enumerate(continents):\n",
    "        movies_in_continents[continent] += movies_in_countries[list(movies_in_countries.keys())[i]]\n",
    "    \n",
    "    movies_in_continents.pop(None, None)\n",
    "    \n",
    "    # We perform the ANOVA test.\n",
    "    values_to_test = [movies_in_continents[continent] for continent in movies_in_continents]\n",
    "    f_value, p_value = stats.f_oneway(*values_to_test)\n",
    "\n",
    "    # We calculate the average rating per continent.\n",
    "    averaged_movies_in_continents = {continent: np.mean(movies_in_continents[continent]) for continent in movies_in_continents}\n",
    "    \n",
    "    # We also will like to show the number of movies per continent.\n",
    "    num_movies_in_continents = {continent: len(movies_in_continents[continent]) for continent in movies_in_continents}\n",
    "    \n",
    "    # We show the average rating per continent.\n",
    "    if genre is None:\n",
    "        genre = 'All Genres'\n",
    "    \n",
    "    # We append the results to show.\n",
    "    results_to_show.append((genre, averaged_movies_in_continents, p_value, num_movies_in_continents))\n",
    "    \n",
    "    # We now perform the Tukey HSD test.\n",
    "    \n",
    "    # We flatten the list of movies.\n",
    "    flattened_movies = [movie for movies in values_to_test for movie in movies]\n",
    "    \n",
    "    # We create a list of continents for each movie.\n",
    "    continents_for_movies = []\n",
    "    for continent, movies in movies_in_continents.items():\n",
    "        continents_for_movies += [continent] * len(movies)\n",
    "        \n",
    "    # We perform the Tukey HSD test.\n",
    "    tukey_results = pairwise_tukeyhsd(flattened_movies, continents_for_movies, alpha=0.05)\n",
    "    \n",
    "    # We get the results in a dataframe.\n",
    "    tukey_results_df = pd.DataFrame(data=tukey_results._results_table.data[1:], columns=tukey_results._results_table.data[0])\n",
    "    \n",
    "    # We get the pairs of continents that are significantly different.\n",
    "    significant_pairs = tukey_results_df[tukey_results_df['reject'] == True][['group1', 'group2']].values\n",
    "    \n",
    "    # Order in a > b\n",
    "    significant_pairs = [(pair[0], pair[1]) if averaged_movies_in_continents[pair[0]] > averaged_movies_in_continents[pair[1]] else (pair[1], pair[0]) for pair in significant_pairs]\n",
    "\n",
    "    # We add the pairs to the list.\n",
    "    significance_results_pairs.append((genre, significant_pairs))\n",
    "\n",
    "\n",
    "# We create the figure.\n",
    "fig = go.Figure()\n",
    "\n",
    "# We add the traces for each genre.\n",
    "for genre, averaged_movies_in_continents, p_value, number_of_movies_per_continent in results_to_show:\n",
    "    fig.add_trace(go.Bar(\n",
    "        visible=True,\n",
    "        x=list(averaged_movies_in_continents.keys()),\n",
    "        y=list(averaged_movies_in_continents.values()),\n",
    "        customdata=list(zip(number_of_movies_per_continent.values(), [genre] * len(number_of_movies_per_continent))),\n",
    "        text=[f'{value:.2f}' for value in averaged_movies_in_continents.values()],\n",
    "        hovertemplate='Continent: %{x}<br>Average IMDB Rating: %{y:.2f}/10<br>Number of Movies: %{customdata[0]}<br>Genre: %{customdata[1]}<extra></extra>',\n",
    "        name=f'{genre} (p-value: {p_value:.2f})'\n",
    "    ))\n",
    "    \n",
    "# We update the layout.\n",
    "fig.update_layout(\n",
    "    title='Average IMDB Rating per Continent for All Genres',\n",
    "    updatemenus=[\n",
    "        dict(\n",
    "            active=0,\n",
    "            buttons=list([\n",
    "                dict(\n",
    "                    label=genre,\n",
    "                    method=\"update\",\n",
    "                    args=[{\"visible\": [genre == result[0] for result in results_to_show] if genre != 'All Genres' else [True] * len(results_to_show)},\n",
    "                          {\"title\": f\"Average IMDB Rating per Continent for {genre}\"}]\n",
    "                ) for genre, _, _, _ in results_to_show\n",
    "        \n",
    "            ]),\n",
    "        )\n",
    "    ])\n",
    "\n",
    "# Save as html file\n",
    "fig.show()\n",
    "fig.write_html(\"web/plots/average_imdb_rating_per_continent.html\", include_plotlyjs=\"cdn\")"
   ]
  },
  {
   "cell_type": "markdown",
   "metadata": {},
   "source": [
    "We will now create a table plot to see where the tukey test has identified significant problems"
   ]
  },
  {
   "cell_type": "code",
   "execution_count": null,
   "metadata": {},
   "outputs": [],
   "source": [
    "# Create a Plotly figure\n",
    "fig = go.Figure()\n",
    "\n",
    "# For each genre we add a table with the significant pairs\n",
    "for genre, significant_pairs in significance_results_pairs:\n",
    "    df = pd.DataFrame(significant_pairs, columns=['Higher Average (Continent A)', 'Lower Average (Continent B)'])\n",
    "    fig.add_trace(go.Table(\n",
    "        header=dict(values=df.columns, fill_color='paleturquoise', align='left'),\n",
    "        cells=dict(values=[df[col] for col in df.columns], fill_color='lavender', align='left'),\n",
    "        visible=False if genre != significance_results_pairs[0][0] else True,\n",
    "        name=genre\n",
    "    ))\n",
    "\n",
    "# Dropdown menu for switching between genres\n",
    "buttons = []\n",
    "for i, (genre, _) in enumerate(significance_results_pairs):\n",
    "    buttons.append(\n",
    "        dict(\n",
    "            label=genre,\n",
    "            method=\"update\",\n",
    "            args=[{\"visible\": [j == i for j in range(len(significance_results_pairs))]},\n",
    "                  {\"title\": f\"Significant Differences (p < 0.05) in Average IMDB Rating per Continent for {genre}\"}]\n",
    "        )\n",
    "    )\n",
    "\n",
    "fig.update_layout(\n",
    "    updatemenus=[dict(active=0, buttons=buttons)],\n",
    "    title=\"Significant Differences (p < 0.05) in Average IMDB Rating per Continent for All Genres\",\n",
    "    margin=dict(t=100, b=100)\n",
    ")\n",
    "\n",
    "# Save as html file\n",
    "fig.write_html(\"web/plots/significant_differences_per_continent.html\", include_plotlyjs=\"cdn\")\n",
    "fig.show()"
   ]
  },
  {
   "cell_type": "markdown",
   "metadata": {},
   "source": [
    "## Cityscapes"
   ]
  },
  {
   "cell_type": "markdown",
   "metadata": {},
   "source": [
    "### Most Popular city in movies per country of production"
   ]
  },
  {
   "cell_type": "code",
   "execution_count": null,
   "metadata": {},
   "outputs": [],
   "source": [
    "top10_countries = ['Mexico', 'Italy', 'Australia', 'Germany', 'China', 'Japan', 'India', 'France', 'United Kingdom', 'United States']\n",
    "\n",
    "filtered_cities_movies = {city: cities_movies[city] for country in top10_countries \n",
    "                          for city in cities_in_country[country] \n",
    "                          if city in cities_movies}\n",
    "\n",
    "city_movie_counts = {city: len(movies) for city, movies in filtered_cities_movies.items()}\n",
    "\n",
    "popular_city_per_country = {}\n",
    "for country in top10_countries:\n",
    "    cities = cities_in_country[country]\n",
    "    city_counts = {city: city_movie_counts.get(city, 0) for city in cities}\n",
    "    most_popular_city = max(city_counts, key=city_counts.get)\n",
    "    popular_city_per_country[country] = (most_popular_city, city_counts[most_popular_city])\n",
    "\n",
    "local_foreign_movie_counts = {}\n",
    "for country, (city, count) in popular_city_per_country.items():\n",
    "    local_count = len([movie for movie in filtered_cities_movies[city] if movie in countries_movies[country]])\n",
    "    foreign_count = count - local_count\n",
    "    local_foreign_movie_counts[country] = (local_count, foreign_count)\n",
    "\n",
    "\n",
    "local_foreign_movie_percentages = {}\n",
    "for country, (local_count, foreign_count) in local_foreign_movie_counts.items():\n",
    "    total_count = local_count + foreign_count\n",
    "    if total_count > 0:\n",
    "        local_percentage = (local_count / total_count) * 100\n",
    "        foreign_percentage = (foreign_count / total_count) * 100\n",
    "        local_foreign_movie_percentages[country] = (local_percentage, foreign_percentage)\n"
   ]
  },
  {
   "cell_type": "code",
   "execution_count": null,
   "metadata": {},
   "outputs": [],
   "source": [
    "movie_counts = [popular_city_per_country[country][1] for country in top10_countries]\n",
    "local_percentages = [local_foreign_movie_percentages[country][0] for country in top10_countries]\n",
    "foreign_percentages = [local_foreign_movie_percentages[country][1] for country in top10_countries]\n",
    "\n",
    "\n",
    "# Generate two palettes with 10 distinct colors each\n",
    "palette = sns.color_palette('pastel', n_colors=10)\n",
    "\n",
    "hex_colors = palette.as_hex()\n",
    "\n",
    "fig = go.Figure()\n",
    "annotations = []\n",
    "for idx, country in enumerate(top10_countries):\n",
    "    # Calculate the total number of movies for the stacked bar\n",
    "    total_movies = movie_counts[idx]\n",
    "    local_movies = round(total_movies * (local_percentages[idx] / 100))\n",
    "    foreign_movies = total_movies - local_movies\n",
    "    \n",
    "    fig.add_trace(go.Bar(\n",
    "        x=[local_movies, foreign_movies],\n",
    "        y=[country, country],\n",
    "        orientation='h',\n",
    "        name=f'{popular_city_per_country[country][0]} - Local: {local_percentages[idx]:.2f}%, Foreign: {foreign_percentages[idx]:.2f}%',\n",
    "        marker=dict(color=[hex_colors[idx], hex_colors[idx]], pattern_shape = [\"\", \"\\\\\"]),  # Apply color to each segment\n",
    "        hoverinfo='none'\n",
    "    ))\n",
    "\n",
    "\n",
    "\n",
    " # Prepare the annotation text for this bar\n",
    "    annotations.append(dict(\n",
    "        x=total_movies,  # Position the annotation in the middle of the bar\n",
    "        y=country,\n",
    "        text=f'{popular_city_per_country[country][0]} - {total_movies} movies',\n",
    "        font=dict(size=10),  # Adjust the font size as needed\n",
    "        showarrow=False,\n",
    "        xanchor='left'  # Ensure the annotation is centered on the specified x position\n",
    "    ))\n",
    "\n",
    "\n",
    "\n",
    "fig.update_layout(\n",
    "    title='Most Popular City per Country in Movies (with Local and Foreign Production Percentages)',\n",
    "    xaxis_title='Number of Movies',\n",
    "    yaxis_title='Country',\n",
    "    yaxis=dict(autorange=True,categoryorder='total ascending'),\n",
    "    template=\"plotly_white\",\n",
    "    barmode = 'stack',\n",
    "    annotations=annotations  # Add the annotations to the layout\n",
    ")\n",
    "fig.show()\n",
    "\n",
    "fig.write_html(\"web/plots/most_popular_cities.html\", include_plotlyjs=\"cdn\")"
   ]
  },
  {
   "cell_type": "markdown",
   "metadata": {},
   "source": [
    "### Genre analysis"
   ]
  },
  {
   "cell_type": "code",
   "execution_count": null,
   "metadata": {},
   "outputs": [],
   "source": [
    "paris_trace = visualize_genres('Paris', city_genre['Paris'], set_visible=True)\n",
    "tokyo_trace = visualize_genres('Tokyo', city_genre['Tokyo'])\n",
    "new_york_trace = visualize_genres('New York', city_genre['New York'])\n",
    "las_vegas_trace = visualize_genres('Las Vegas', city_genre['Las Vegas'])\n",
    "berlin_trace = visualize_genres('Berlin', city_genre['Berlin'])\n",
    "mumbai_trace = visualize_genres('Mumbai', city_genre['Mumbai'])\n",
    "venice_trace = visualize_genres('Venice', city_genre['Venice'])\n",
    "hong_kong_trace = visualize_genres('Hong Kong', city_genre['Hong Kong'])\n",
    "london_trace = visualize_genres('London', city_genre['London'])\n",
    "beijing_trace = visualize_genres('Beijing', city_genre['Beijing'])\n",
    "beverly_hills_trace = visualize_genres('Beverly Hills', city_genre['Beverly Hills'])\n",
    "\n",
    "fig = go.Figure()\n",
    "fig.add_traces([paris_trace, tokyo_trace, mumbai_trace, hong_kong_trace, venice_trace, las_vegas_trace, new_york_trace, berlin_trace, london_trace, beijing_trace, beverly_hills_trace])\n",
    "\n",
    "fig.update_layout(\n",
    "    xaxis=dict(\n",
    "        tickangle=45 \n",
    "    )\n",
    ")\n",
    "\n",
    "num_traces = len(fig.data)\n",
    "visibility_states = [[False] * num_traces for _ in range(num_traces)]\n",
    "\n",
    "for i in range(num_traces):\n",
    "    visibility_states[i][i] = True\n",
    "\n",
    "buttons = [\n",
    "    dict(method='update',\n",
    "         label=fig.data[i].name, \n",
    "         args=[{'visible': visibility_states[i]},\n",
    "               {'title': f'Genre Distribution for {fig.data[i].name}'}])\n",
    "    for i in range(num_traces)\n",
    "]\n",
    "\n",
    "fig.update_layout(\n",
    "    updatemenus=[{\n",
    "        'buttons': buttons,\n",
    "        'direction': 'down',\n",
    "        'showactive': True,\n",
    "    }]\n",
    ")\n",
    "\n",
    "fig.show()\n"
   ]
  },
  {
   "cell_type": "markdown",
   "metadata": {},
   "source": [
    "### IMDb ratings"
   ]
  },
  {
   "cell_type": "code",
   "execution_count": null,
   "metadata": {},
   "outputs": [],
   "source": [
    "city_ratings = get_city_imdb_ratings(city_imdb)"
   ]
  },
  {
   "cell_type": "code",
   "execution_count": null,
   "metadata": {},
   "outputs": [],
   "source": [
    "mu, std = norm.fit(city_ratings['imdb_rating'])\n",
    "\n",
    "xmin, xmax = city_ratings['imdb_rating'].min(), city_ratings['imdb_rating'].max()\n",
    "x = np.linspace(xmin, xmax, 100)\n",
    "p = norm.pdf(x, mu, std)\n",
    "\n",
    "plt.hist(city_ratings['imdb_rating'], bins=30, alpha=0.5, density=True)\n",
    "plt.plot(x, p, 'k', linewidth=2)\n",
    "title = \"Fit results: mu = %.2f, std = %.2f\" % (mu, std)\n",
    "plt.title(title)\n",
    "plt.xlabel('IMDb Rating')\n",
    "plt.ylabel('Density')\n",
    "plt.show()"
   ]
  },
  {
   "cell_type": "code",
   "execution_count": null,
   "metadata": {},
   "outputs": [],
   "source": [
    "def create_scatter_trace(city_ratings, set_visible=False):\n",
    "    return go.Scatter(\n",
    "        x=city_ratings['imdb_rating'],\n",
    "        y=city_ratings['number_of_movies'],\n",
    "        mode='markers+text',\n",
    "        marker=dict(\n",
    "            size=city_ratings['number_of_votes'],\n",
    "            sizemode='area',\n",
    "            sizeref=2.*max(city_ratings['number_of_votes'])/(70.**2)\n",
    "        ),\n",
    "        text=city_ratings['City'],\n",
    "        hoverinfo='text',\n",
    "        name=\"\",\n",
    "        textposition=\"middle center\",\n",
    "        hovertemplate='<b>%{text}</b><br>' +\n",
    "                      'IMDb Rating: %{x}<br>' +\n",
    "                      'Number of Movies: %{y}<br>' +\n",
    "                      'Number of Votes: %{marker.size:,}',\n",
    "        visible=set_visible,\n",
    "    )"
   ]
  },
  {
   "cell_type": "code",
   "execution_count": null,
   "metadata": {},
   "outputs": [],
   "source": [
    "fig = go.Figure()\n",
    "\n",
    "city_ratings_romance = get_city_imdb_ratings(city_imdb_with_genres, genres=[\"Romance Film\", \"Romantic Drama\"])\n",
    "city_ratings_romance = city_ratings_romance[city_ratings_romance[\"number_of_movies\"] > 40]\n",
    "fig.add_trace(create_scatter_trace(city_ratings_romance, set_visible=True))\n",
    "\n",
    "city_ratings_horror = get_city_imdb_ratings(city_imdb_with_genres, genres=[\"Horror\"])\n",
    "city_ratings_horror = city_ratings_horror[city_ratings_horror[\"number_of_movies\"] > 10]\n",
    "fig.add_trace(create_scatter_trace(city_ratings_horror))\n",
    "\n",
    "city_ratings_martial_arts = get_city_imdb_ratings(city_imdb_with_genres, genres=[\"Martial Arts Film\"])\n",
    "city_ratings_martial_arts = city_ratings_martial_arts[city_ratings_martial_arts[\"number_of_movies\"] > 5]\n",
    "fig.add_trace(create_scatter_trace(city_ratings_martial_arts))\n",
    "\n",
    "city_ratings_bollywood = get_city_imdb_ratings(city_imdb_with_genres, genres=[\"Bollywood\"])\n",
    "city_ratings_bollywood = city_ratings_bollywood[city_ratings_bollywood[\"number_of_movies\"] > 10]\n",
    "fig.add_trace(create_scatter_trace(city_ratings_bollywood))\n",
    "\n",
    "\n",
    "buttons = [\n",
    "    dict(method='update',\n",
    "         label='Romance Movies',\n",
    "         args=[{'visible': [True, False, False, False]},\n",
    "               {'title': 'IMDb ratings for Romance Movies'}]),\n",
    "    dict(method='update',\n",
    "         label='Horror Movies',\n",
    "         args=[{'visible': [False, True, False, False]},\n",
    "               {'title': 'IMDb ratings for Horror Movies'}]),\n",
    "    dict(method='update',\n",
    "         label='Martial Arts Movies',\n",
    "         args=[{'visible': [False, False, True, False]},\n",
    "               {'title': 'IMDb ratings for Martial Arts Movies'}]),\n",
    "    dict(method='update',\n",
    "         label='Bollywood Movies',\n",
    "         args=[{'visible': [False, False, False, True]},\n",
    "               {'title': 'IMDb ratings for Bollywood Movies'}])\n",
    "]\n",
    "\n",
    "fig.update_layout(\n",
    "    updatemenus=[{\n",
    "        'buttons': buttons,\n",
    "        'direction': 'down',\n",
    "        'showactive': True,\n",
    "    }],\n",
    "    title='Average IMDb Rating per City',\n",
    "    xaxis=dict(title='Average IMDb Rating'),\n",
    "    yaxis=dict(title='Number of Movies'),\n",
    ")\n",
    "\n",
    "# Show the plot\n",
    "fig.show()"
   ]
  },
  {
   "cell_type": "markdown",
   "metadata": {},
   "source": [
    "We will now check our results for significance using ANOVA and "
   ]
  },
  {
   "cell_type": "code",
   "execution_count": null,
   "metadata": {},
   "outputs": [],
   "source": [
    "# Genres we will check. None represents all genres.\n",
    "genres_to_check = [\n",
    "    None,\n",
    "    'Martial Arts Film',\n",
    "    'Romance Film',\n",
    "    'Horror',\n",
    "    'Bollywood'\n",
    "]\n",
    "\n",
    "significance_results_pairs = []\n",
    "\n",
    "# For each genre we will compute the results to show but also a Tukey HSD test.\n",
    "for genre in genres_to_check:\n",
    "    # We get the movies from this genre in each city\n",
    "    movies_in_cities = get_list_of_movies_in_cities_by_genres(city_imdb_with_genres, [genre] if genre is not None else None)\n",
    "    \n",
    "    # We filter out cities with less than 5 movies.\n",
    "    movies_in_cities = {city: movies for city, movies in movies_in_cities.items() if len(movies) >= 5}\n",
    "    \n",
    "    # We get the values to test.\n",
    "    values_to_test = [movies_in_cities[city] for city in movies_in_cities]\n",
    "    \n",
    "    # We calculate the average rating per city.\n",
    "    averaged_movies_in_cities = {city: np.mean(movies_in_cities[city]) for city in movies_in_cities}\n",
    "    \n",
    "    # Also add number of movies per city\n",
    "    num_movies_in_cities = {city: len(movies_in_cities[city]) for city in movies_in_cities}\n",
    "    \n",
    "    # We now perform the Tukey HSD test.\n",
    "\n",
    "    # We flatten the list of movies.\n",
    "    flattened_movies = [movie for movies in values_to_test for movie in movies]\n",
    "    \n",
    "    # We create a list of cities for each movie.\n",
    "    cities_for_movies = []\n",
    "    for city, movies in movies_in_cities.items():\n",
    "        cities_for_movies += [city] * len(movies)\n",
    "        \n",
    "    # We perform the Tukey HSD test.\n",
    "    tukey_results = pairwise_tukeyhsd(flattened_movies, cities_for_movies, alpha=0.05)\n",
    "    \n",
    "    # We get the results in a dataframe.\n",
    "    tukey_results_df = pd.DataFrame(data=tukey_results._results_table.data[1:], columns=tukey_results._results_table.data[0])\n",
    "    \n",
    "    # We get the pairs of cities that are significantly different.\n",
    "    significant_pairs = tukey_results_df[tukey_results_df['reject'] == True][['group1', 'group2']].values\n",
    "    \n",
    "    # Order in a > b\n",
    "    significant_pairs = [(pair[0], pair[1]) if averaged_movies_in_cities[pair[0]] > averaged_movies_in_cities[pair[1]] else (pair[1], pair[0]) for pair in significant_pairs]\n",
    "\n",
    "    # We add the pairs to the list.\n",
    "    if genre is None:\n",
    "        genre = 'All Genres'\n",
    "    significance_results_pairs.append((genre, significant_pairs))"
   ]
  },
  {
   "cell_type": "markdown",
   "metadata": {},
   "source": [
    "We plot a similar plot that we did for continents but for cities now"
   ]
  },
  {
   "cell_type": "code",
   "execution_count": null,
   "metadata": {},
   "outputs": [],
   "source": [
    "fig = go.Figure()\n",
    "\n",
    "# For each genre we add a table with the significant pairs\n",
    "for genre, significant_pairs in significance_results_pairs:\n",
    "    df = pd.DataFrame(significant_pairs, columns=['Higher Average (City A)', 'Lower Average (City B)'])\n",
    "    fig.add_trace(go.Table(\n",
    "        header=dict(values=df.columns, fill_color='paleturquoise', align='left'),\n",
    "        cells=dict(values=[df[col] for col in df.columns], fill_color='lavender', align='left'),\n",
    "        visible=False if genre != significance_results_pairs[0][0] else True,\n",
    "        name=genre\n",
    "    ))\n",
    "\n",
    "# Create a dropdown menu for selecting a genre\n",
    "buttons = []\n",
    "for i, (genre, _) in enumerate(significance_results_pairs):\n",
    "    buttons.append(\n",
    "        dict(\n",
    "            label=genre,\n",
    "            method=\"update\",\n",
    "            args=[{\"visible\": [j == i for j in range(len(significance_results_pairs))]},\n",
    "                  {\"title\": f\"Significant Differences (p < 0.05) in Average IMDB Rating per City for {genre}\"}]\n",
    "        )\n",
    "    )\n",
    "\n",
    "fig.update_layout(\n",
    "    updatemenus=[dict(active=0, buttons=buttons)],\n",
    "    title=\"Significant Differences (p < 0.05) in Average IMDB Rating per City for All Genres\",\n",
    "    margin=dict(t=100, b=100)\n",
    ")\n",
    "\n",
    "# Save as html file\n",
    "fig.show()\n",
    "fig.write_html(\"web/plots/significant_differences_per_city.html\", include_plotlyjs=\"cdn\")"
   ]
  },
  {
   "cell_type": "markdown",
   "metadata": {},
   "source": [
    "## Characters"
   ]
  },
  {
   "cell_type": "markdown",
   "metadata": {},
   "source": [
    "## Going back in time"
   ]
  },
  {
   "cell_type": "code",
   "execution_count": 15,
   "metadata": {},
   "outputs": [
    {
     "name": "stdout",
     "output_type": "stream",
     "text": [
      "118\n"
     ]
    },
    {
     "data": {
      "image/png": "[encoded data removed]",
      "text/plain": [
       "<Figure size 1500x1000 with 1 Axes>"
      ]
     },
     "metadata": {},
     "output_type": "display_data"
    }
   ],
   "source": [
    "movie_years = movie_metadata['Movie release date'].str.extract(r'(\\d{4})', expand=False)\n",
    "\n",
    "# Calculate min, max, and missing values\n",
    "min_year = 1895\n",
    "max_year = 2013\n",
    "missing_values = movie_years.isnull().sum()\n",
    "\n",
    "# Drop NA values and convert to int\n",
    "movie_years = movie_years.dropna().astype(int)\n",
    "\n",
    "# Histogram of movie years\n",
    "fig, ax = plt.subplots(figsize=(15, 10))\n",
    "print(max_year - min_year)\n",
    "sns.histplot(movie_years, bins=(1000), color='skyblue', ax=ax, kde=False)\n",
    "\n",
    "# Set labels and title\n",
    "ax.set_xlabel('Year', fontsize=12)\n",
    "ax.set_ylabel('Number of Movies', fontsize=12)\n",
    "ax.set_title('Number of Movies by Year', fontsize=16)\n",
    "\n",
    "ax.set_xlim([1900, max_year])\n",
    "\n",
    "# Adding text about min, max, and missing values\n",
    "textstr = f'Max Year: {max_year}\\nMin Year: {min_year}\\nMissing Values: {missing_values}'\n",
    "ax.text(0.95, 0.95, textstr, transform=ax.transAxes, fontsize=12,\n",
    "        verticalalignment='top', bbox=dict(boxstyle='round,pad=0.5', facecolor='wheat', alpha=0.5))\n",
    "\n",
    "plt.tight_layout()\n",
    "sns.despine(left=True, bottom=True)\n",
    "plt.savefig('web/plots/number_of_movies_by_year.png')\n",
    "\n",
    "plt.show()\n"
   ]
  },
  {
   "cell_type": "markdown",
   "metadata": {},
   "source": [
    "### Genre Evolution"
   ]
  },
  {
   "cell_type": "code",
   "execution_count": null,
   "metadata": {},
   "outputs": [],
   "source": [
    "def get_genres_by_location_and_year(locations_movies, movie_metadata):\n",
    "    year_location_genre_count = {}\n",
    "\n",
    "    for location, movie_ids in locations_movies.items():\n",
    "        for movie_id in movie_ids:\n",
    "            movie_row = movie_metadata[movie_metadata[\"Wikipedia movie ID\"] == int(movie_id)]\n",
    "\n",
    "            if not movie_row.empty:\n",
    "                movie_release_date = movie_row[\"Movie release date\"].values[0]\n",
    "                year = movie_release_date[:4] if pd.notna(movie_release_date) else 'Unknown'\n",
    "\n",
    "                genres_str = movie_row[\"Movie genres (Freebase ID:name tuples)\"].values[0]\n",
    "                genres = list(ast.literal_eval(genres_str).values())\n",
    "\n",
    "                if year not in year_location_genre_count:\n",
    "                    year_location_genre_count[year] = {}\n",
    "                if location not in year_location_genre_count[year]:\n",
    "                    year_location_genre_count[year][location] = {}\n",
    "\n",
    "                for genre_name in genres:\n",
    "                    genre_count = year_location_genre_count[year][location]\n",
    "                    genre_count[genre_name] = genre_count.get(genre_name, 0) + 1\n",
    "\n",
    "    return year_location_genre_count"
   ]
  },
  {
   "cell_type": "code",
   "execution_count": null,
   "metadata": {},
   "outputs": [],
   "source": [
    "year_city_genre = get_genres_by_location_and_year(cities_movies, movie_metadata)\n",
    "year_country_genre = get_genres_by_location_and_year(countries_movies, movie_metadata)"
   ]
  },
  {
   "cell_type": "code",
   "execution_count": null,
   "metadata": {},
   "outputs": [],
   "source": [
    "def moving_average(data, window_size):\n",
    "    return np.convolve(data, np.ones(window_size), 'valid') / window_size\n",
    "\n",
    "def genre_trend_visualization(location, genres, location_year_genre_data, years_range, percentage=True, window=5, mark_years=[], mark_years_labels=[]):\n",
    "    plt.figure(figsize=(10, 6))\n",
    "\n",
    "    start_year = years_range[0]\n",
    "    end_year = years_range[-1]\n",
    "    all_years = list(range(start_year, end_year + 1))\n",
    "    \n",
    "    max_genre_value = 0\n",
    "\n",
    "    # Calculate the counts or percentages for each year\n",
    "    for genre in genres:\n",
    "        annual_data = []\n",
    "        for year in all_years:\n",
    "            year_str = str(year)\n",
    "            total_movies = sum(location_year_genre_data.get(year_str, {}).get(location, {}).values())\n",
    "            genre_count = location_year_genre_data.get(year_str, {}).get(location, {}).get(genre, 0)\n",
    "            if percentage and total_movies > 0:\n",
    "                genre_value = (genre_count / total_movies) * 100\n",
    "            else:\n",
    "                genre_value = genre_count\n",
    "            annual_data.append(genre_value)\n",
    "\n",
    "        # Apply smoothing\n",
    "        if len(annual_data) >= window:\n",
    "            smoothed_data = moving_average(annual_data, window)\n",
    "            max_genre_value = max(max_genre_value, max(smoothed_data))\n",
    "            # Plot the data\n",
    "            plt.plot(all_years[window-1:], smoothed_data, label=genre, linewidth=2)\n",
    "\n",
    "    \n",
    "    for i, year in enumerate(mark_years):\n",
    "        plt.axvline(x=year, color='gray', linestyle='--')\n",
    "        plt.text(year, max_genre_value, mark_years_labels[i], ha='center', va='bottom')\n",
    "\n",
    "    \n",
    "    ylabel = 'Percentage of Movies' if percentage else 'Number of Movies'\n",
    "    plt.title(f'Genre evolution in {location}')\n",
    "    plt.xlabel('Year')\n",
    "    plt.ylabel(ylabel)\n",
    "\n",
    "    # Set x-axis ticks to only show every fifth year\n",
    "    plt.xticks(range(start_year, end_year + 1, window))\n",
    "    plt.gca().yaxis.set_major_locator(MaxNLocator(integer=True))\n",
    "    \n",
    "    plt.legend()\n",
    "    plt.grid(True)\n",
    "    \n",
    "    plt.show()\n"
   ]
  },
  {
   "cell_type": "code",
   "execution_count": null,
   "metadata": {},
   "outputs": [],
   "source": [
    "genre_trend_visualization(\n",
    "    \"France\",\n",
    "    [\"War film\", \"Romance Film\", \"Black-and-white\"],\n",
    "    year_country_genre,\n",
    "    range(1920, 2010), \n",
    "    percentage=True,\n",
    "    window=5,\n",
    "    mark_years=[1939, 1945],\n",
    "    mark_years_labels=['WW2', 'WW2']\n",
    ")"
   ]
  },
  {
   "cell_type": "code",
   "execution_count": null,
   "metadata": {},
   "outputs": [],
   "source": [
    "genre_trend_visualization(\n",
    "    \"Germany\",\n",
    "    [\"War film\"],\n",
    "    year_country_genre,\n",
    "    range(1920, 2010),\n",
    "    percentage=True,\n",
    "    window=5,\n",
    "    mark_years=[1939, 1945],\n",
    "    mark_years_labels=['WW2', 'WW2']\n",
    ")"
   ]
  },
  {
   "cell_type": "code",
   "execution_count": null,
   "metadata": {},
   "outputs": [],
   "source": [
    "genre_trend_visualization(\n",
    "    \"United Kingdom\",\n",
    "    [\"War film\"],\n",
    "    year_country_genre,\n",
    "    range(1920, 2010),\n",
    "    percentage=True,\n",
    "    window=5,\n",
    "    mark_years=[1939, 1945],\n",
    "    mark_years_labels=['WW2', 'WW2']\n",
    ")"
   ]
  },
  {
   "cell_type": "code",
   "execution_count": null,
   "metadata": {},
   "outputs": [],
   "source": [
    "genre_trend_visualization(\n",
    "    \"Hong Kong\",\n",
    "    [\"Action\", \"Martial Arts Film\", \"Action/Adventure\"],\n",
    "    year_city_genre,\n",
    "    range(1920, 2010),\n",
    "    percentage=True,\n",
    "    window=5,\n",
    "    mark_years=[1970],\n",
    "    mark_years_labels=['Action Movies Boom']\n",
    ")"
   ]
  },
  {
   "cell_type": "code",
   "execution_count": null,
   "metadata": {},
   "outputs": [],
   "source": [
    "genre_trend_visualization(\n",
    "    \"India\",\n",
    "    [\"Musical\", \"Bollywood\", \"British Empire Film\"],\n",
    "    year_country_genre,\n",
    "    range(1920, 2010),\n",
    "    percentage=True,\n",
    "    window=10,\n",
    "    mark_years=[1947],\n",
    "    mark_years_labels=['India Independence']\n",
    ")"
   ]
  },
  {
   "cell_type": "code",
   "execution_count": null,
   "metadata": {},
   "outputs": [],
   "source": [
    "\n",
    "def movies_per_time(movies_in_country_to_check, world, path_name, country_to_check):\n",
    "    movie_years = movie_metadata['Movie release date'].str.extract(r'(\\d{4})', expand=False)\n",
    "    movie_metadata['year'] = movie_years\n",
    "    movie_metadata['year'] = movie_metadata['year'].fillna(-1).astype(int)\n",
    "\n",
    "    # Define the time periods\n",
    "    time_periods = range(1900, 2017, 20)\n",
    "\n",
    "    n_ranges = len(time_periods)\n",
    "    n_cols = 3\n",
    "    n_rows = (n_ranges + n_cols - 1) // n_cols\n",
    "\n",
    "    fig, axes = plt.subplots(n_rows, n_cols, figsize=(30, 10 * n_rows))\n",
    "\n",
    "    axes = axes.flatten()\n",
    "\n",
    "    for i, start_year in enumerate(time_periods):\n",
    "        end_year = start_year + 20\n",
    "    \n",
    "        # Filter movies released in the current time period\n",
    "        period_movies = movie_metadata[(movie_metadata['year'] < end_year) & (movie_metadata['year'] >= start_year)]\n",
    "    \n",
    "        ax = axes[i]\n",
    "\n",
    "        if world == True:\n",
    "            movies_in_country_to_check_in_time_period = period_movies['Wikipedia movie ID']\n",
    "        else:\n",
    "            movies_in_country_to_check_in_time_period = period_movies[period_movies['Wikipedia movie ID'].isin(movies_in_country_to_check)]['Wikipedia movie ID']\n",
    "        tsne_movies_in_country_to_check = tsne_obj[combined_plot_summaries['Wikipedia movie ID'].isin(movies_in_country_to_check_in_time_period)]\n",
    "\n",
    "        country_movies = tsne_movies_in_country_to_check\n",
    "        x_country, y_country = [movie[0] for movie in country_movies], [movie[1] for movie in country_movies]\n",
    "\n",
    "        # Scatter plot for all movies\n",
    "        ax.scatter(tsne_obj[:, 0], tsne_obj[:, 1], color='gray', alpha=0.2)\n",
    "\n",
    "        # Scatter plot for the highlighted movies\n",
    "        ax.scatter(x_country, y_country, alpha=0.5, color='red')\n",
    "\n",
    "        # KDE plot for the highlighted movies\n",
    "        sns.kdeplot(x=x_country, y=y_country, ax=ax, cmap='Reds', shade=True,  alpha=0.7)\n",
    "    \n",
    "        # Set titles and labels\n",
    "        if world == True:\n",
    "            ax.set_title(f'{len(movies_in_country_to_check_in_time_period)} movies between {start_year} - {end_year}', pad=20, fontsize=20)\n",
    "        else:\n",
    "            ax.set_title(f'{country_to_check} with {len(movies_in_country_to_check_in_time_period)} movies between {start_year} - {end_year}', pad=20, fontsize=20)\n",
    "        ax.set_xlabel('t-SNE Axis 1', fontsize=15)\n",
    "        ax.set_ylabel('t-SNE Axis 2', fontsize=15)\n",
    "    \n",
    "        # Set x adn y limits\n",
    "        ax.set_xlim([-90, 90])\n",
    "        ax.set_ylim([-90, 90])\n",
    "    \n",
    "\n",
    "    # Adjust layout\n",
    "    plt.tight_layout()\n",
    "    sns.despine(left=True, bottom=True)\n",
    "    plt.savefig(path_name)\n",
    "\n",
    "    plt.close()"
   ]
  },
  {
   "cell_type": "code",
   "execution_count": null,
   "metadata": {},
   "outputs": [],
   "source": [
    "movies_per_time(list(countries_movies.values()), True, 'web/plots/number_of_movies_world.png', '')"
   ]
  },
  {
   "cell_type": "code",
   "execution_count": null,
   "metadata": {},
   "outputs": [],
   "source": [
    "movies_per_time(countries_movies['France'], False, 'web/plots/number_of_movies_france.png', 'France')"
   ]
  },
  {
   "cell_type": "code",
   "execution_count": null,
   "metadata": {},
   "outputs": [],
   "source": [
    "def analyze_movies_by_country(movie_metadata, combined_plot_summaries, tsne_obj, country):\n",
    "    # Define the time periods\n",
    "    time_periods = range(1900, 2017, 20)\n",
    "\n",
    "    # Initialize list for frames and slider steps\n",
    "    frames = []\n",
    "    slider_steps = []\n",
    "    movies_in_country = countries_movies[country]\n",
    "\n",
    "    for start_year in time_periods:\n",
    "        end_year = start_year + 20\n",
    "\n",
    "        # Filter movies in the time period\n",
    "        period_movies = movie_metadata[(movie_metadata['year'] >= start_year) & (movie_metadata['year'] < end_year)]\n",
    "        movies_in_period = period_movies[period_movies['Wikipedia movie ID'].isin(movies_in_country)]\n",
    "        tsne_movies_in_country = tsne_obj[combined_plot_summaries['Wikipedia movie ID'].isin(movies_in_period['Wikipedia movie ID'])]\n",
    "\n",
    "        if len(tsne_movies_in_country) > 0:\n",
    "            # Create a frame for the period\n",
    "            frame = go.Frame(\n",
    "                data=[\n",
    "                    go.Scatter(x=tsne_movies_in_country[:, 0], y=tsne_movies_in_country[:, 1], mode='markers',\n",
    "                               marker=dict(color='red'),\n",
    "                               hovertemplate='<b>%{text}</b><br>',\n",
    "                                 text=movies_in_period['Movie name'],   \n",
    "                               name=f'{country} Movies {start_year}-{end_year}'),\n",
    "                ],\n",
    "                name=f'{start_year}-{end_year}'\n",
    "            )\n",
    "            frames.append(frame)\n",
    "\n",
    "            # Add slider step for this frame\n",
    "            slider_step = {\"args\": [[f\"{start_year}-{end_year}\"],\n",
    "                                    {\"frame\": {\"duration\": 500, \"redraw\": False},\n",
    "                                     \"mode\": \"immediate\",\n",
    "                                     \"transition\": {\"duration\": 300}}],\n",
    "                           \"label\": f\"{start_year}-{end_year}\",\n",
    "                           \"method\": \"animate\"}\n",
    "            slider_steps.append(slider_step)\n",
    "\n",
    "    # Create the slider\n",
    "    slider = {\n",
    "        \"active\": 0,\n",
    "        \"yanchor\": \"top\",\n",
    "        \"xanchor\": \"left\",\n",
    "        \"currentvalue\": {\n",
    "            \"font\": {\"size\": 20},\n",
    "            \"prefix\": \"Period: \",\n",
    "            \"visible\": True,\n",
    "            \"xanchor\": \"right\"\n",
    "        },\n",
    "        \"transition\": {\"duration\": 5000, \"easing\": \"cubic-in-out\"},\n",
    "        \"pad\": {\"b\": 10, \"t\": 50},\n",
    "        \"len\": 0.9,\n",
    "        \"x\": 0.1,\n",
    "        \"y\": 0,\n",
    "        \"steps\": slider_steps\n",
    "    }\n",
    "\n",
    "    # Create and show the figure\n",
    "    fig = go.Figure(\n",
    "        frames=frames,\n",
    "        layout=go.Layout(\n",
    "            sliders=[slider],\n",
    "            title=f\"{country} Movies over Time\",\n",
    "            xaxis=dict(range=[np.min(tsne_obj[:, 0])-10, np.max(tsne_obj[:, 0])+10]),\n",
    "            yaxis=dict(range=[np.min(tsne_obj[:, 1])-10, np.max(tsne_obj[:, 1])+10]),\n",
    "            updatemenus=[dict(\n",
    "                type=\"buttons\",\n",
    "                buttons=[dict(label=\"Play\",\n",
    "                              method=\"animate\",\n",
    "                              args=[None, {\"frame\": {\"duration\": 5000, \"redraw\": True},\n",
    "                                           \"fromcurrent\": True, \"transition\": {\"duration\": 300,\n",
    "                                                                               \"easing\": \"quadratic-in-out\"}}]),\n",
    "                            dict(label=\"Pause\",\n",
    "                                 method=\"animate\",\n",
    "                                 args=[[None], {\"frame\": {\"duration\": 0, \"redraw\": False},\n",
    "                                               \"mode\": \"immediate\",\n",
    "                                               \"transition\": {\"duration\": 0}}])])],\n",
    "        ),\n",
    "    )\n",
    "\n",
    "    if frames:\n",
    "        fig.add_trace(frames[0].data[0])\n",
    "    \n",
    "    fig.write_html(f\"web/plots/tsne_{country}_movies_over_time.html\", include_plotlyjs=\"cdn\")\n",
    "\n",
    "analyze_movies_by_country(movie_metadata, combined_plot_summaries, tsne_obj, \"France\")\n",
    "analyze_movies_by_country(movie_metadata, combined_plot_summaries, tsne_obj, \"United States\")\n",
    "analyze_movies_by_country(movie_metadata, combined_plot_summaries, tsne_obj, \"United Kingdom\")\n",
    "analyze_movies_by_country(movie_metadata, combined_plot_summaries, tsne_obj, \"Germany\")\n",
    "analyze_movies_by_country(movie_metadata, combined_plot_summaries, tsne_obj, \"India\")"
   ]
  },
  {
   "cell_type": "code",
   "execution_count": null,
   "metadata": {},
   "outputs": [],
   "source": [
    "def get_movies_for_genre(genre, movie_metadata):\n",
    "    movies = []\n",
    "\n",
    "    for movie in movie_metadata.values:\n",
    "        #if movie['Movie genres (Freebase ID:name tuples)']\n",
    "        #print(movie)\n",
    "        genres_series = movie[8]\n",
    "        if len(genres_series) > 0:\n",
    "            genres = list(ast.literal_eval(genres_series).values())\n",
    "            if genre in genres:\n",
    "                movies.append(movie[0])\n",
    "\n",
    "    return movies"
   ]
  },
  {
   "cell_type": "code",
   "execution_count": null,
   "metadata": {},
   "outputs": [],
   "source": [
    "fig, axes = plt.subplots(1, 2, figsize=(30, 10 * 1))\n",
    "\n",
    "axes = axes.flatten()\n",
    "\n",
    "genres = ['War', \"Love\"]\n",
    "colors = ['Greys', 'Oranges']\n",
    "\n",
    "for i, genre in enumerate(genres):\n",
    "    ax = axes[i]\n",
    "    #genre_movies = get_movies_for_genre(genre, movie_metadata)\n",
    "    #tsne_movies_in_country_to_check = tsne_obj[combined_plot_summaries['Wikipedia movie ID'].isin(genre_movies)]\n",
    "\n",
    "    dist = cosine_similarities_dict[genre]\n",
    "\n",
    "    country_movies = tsne_df[dist > 0.8][['X','Y']].values\n",
    "    #print(country_movies)\n",
    "    x_country, y_country = [movie[0] for movie in country_movies], [movie[1] for movie in country_movies]\n",
    "\n",
    "    # Scatter plot for all movies\n",
    "    ax.scatter(tsne_obj[:, 0], tsne_obj[:, 1], color='gray', alpha=0.2)\n",
    "\n",
    "    # Scatter plot for the highlighted movies\n",
    "    ax.scatter(x_country, y_country, alpha=0.5, color='red')\n",
    "\n",
    "    # KDE plot for the highlighted movies\n",
    "    sns.kdeplot(x=x_country, y=y_country, ax=ax, cmap=colors[i], shade=True,  alpha=0.7)\n",
    "    \n",
    "    # Set titles and labels\n",
    "    ax.set_title(f'Movies about {genre}', pad=20, fontsize=20)\n",
    "    ax.set_xlabel('t-SNE Axis 1', fontsize=15)\n",
    "    ax.set_ylabel('t-SNE Axis 2', fontsize=15)\n",
    "plt.tight_layout()\n",
    "sns.despine(left=True, bottom=True)\n",
    "plt.savefig('web/plots/war-love-plotting.png')"
   ]
  },
  {
   "cell_type": "code",
   "execution_count": null,
   "metadata": {},
   "outputs": [],
   "source": []
  }
 ],
 "metadata": {
  "kernelspec": {
   "display_name": "Python 3 (ipykernel)",
   "language": "python",
   "name": "python3"
  },
  "language_info": {
   "codemirror_mode": {
    "name": "ipython",
    "version": 3
   },
   "file_extension": ".py",
   "mimetype": "text/x-python",
   "name": "python",
   "nbconvert_exporter": "python",
   "pygments_lexer": "ipython3",
   "version": "3.11.7"
  }
 },
 "nbformat": 4,
 "nbformat_minor": 2
}
