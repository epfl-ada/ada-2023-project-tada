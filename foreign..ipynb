{
 "cells": [
  {
   "cell_type": "code",
   "execution_count": 53,
   "metadata": {},
   "outputs": [],
   "source": [
    "import pandas as pd\n",
    "import numpy as np\n",
    "import warnings\n",
    "from sklearn.manifold import TSNE\n",
    "import plotly.express as px\n",
    "from helpers import load_data, get_embedding\n",
    "import tqdm\n",
    "import plotly.graph_objects as go\n",
    "import json\n",
    "import googlemaps\n",
    "import os\n",
    "from sklearn.preprocessing import MinMaxScaler\n",
    "\n",
    "warnings.filterwarnings(\"ignore\")\n",
    "\n",
    "DATA_PATH = 'data/'\n",
    "\n",
    "USE_CITIES = False # If False, we use countries\n",
    "\n",
    "# Load the data\n",
    "loaded_data = load_data(DATA_PATH)\n",
    "\n",
    "# We set all needed variables\n",
    "character_metadata = loaded_data['character_metadata']\n",
    "movie_metadata = loaded_data['movie_metadata']\n",
    "plot_summaries = loaded_data['plot_summaries']\n",
    "embeddings = loaded_data['embeddings']\n",
    "combined_plot_summaries = loaded_data['combined_plot_summaries']\n",
    "city_country_analysis = loaded_data['city_country_analysis']\n",
    "cities = city_country_analysis['cities']\n",
    "countries = city_country_analysis['countries']\n",
    "cities_movies = city_country_analysis['cities_movies']\n",
    "countries_movies = city_country_analysis['countries_movies']\n",
    "embeddings_of_movies_in_cities = city_country_analysis['embeddings_of_movies_in_cities']\n",
    "embeddings_of_movies_in_countries = city_country_analysis['embeddings_of_movies_in_countries']"
   ]
  },
  {
   "cell_type": "code",
   "execution_count": 45,
   "metadata": {},
   "outputs": [],
   "source": [
    "def movie_id_to_name(wikipedia_movie_id):\n",
    "    if wikipedia_movie_id is None:\n",
    "        return None\n",
    "    \n",
    "    names = movie_metadata.loc[movie_metadata['Wikipedia movie ID'] == wikipedia_movie_id]['Movie name']\n",
    "\n",
    "    if names.empty:\n",
    "        return \"Unknown\"\n",
    "    return names.values[0]\n",
    "\n",
    "movie_names = combined_plot_summaries['Wikipedia movie ID'].apply(movie_id_to_name)"
   ]
  },
  {
   "cell_type": "markdown",
   "metadata": {},
   "source": [
    "#### City representation from foreign countries "
   ]
  },
  {
   "cell_type": "code",
   "execution_count": 46,
   "metadata": {},
   "outputs": [],
   "source": [
    "# We load from movie_analysis.json and convert to df\n",
    "with open('data/movie_analysis.json', 'r') as f:\n",
    "    analysis = json.load(f)"
   ]
  },
  {
   "cell_type": "code",
   "execution_count": 47,
   "metadata": {},
   "outputs": [],
   "source": [
    "# We convert the string in the values to a dict\n",
    "for key, value in analysis.items():\n",
    "    analysis[key] = json.loads(value)"
   ]
  },
  {
   "cell_type": "code",
   "execution_count": 48,
   "metadata": {},
   "outputs": [],
   "source": [
    "def get_cities(one_analysis):\n",
    "    if one_analysis is None:\n",
    "        return []\n",
    "\n",
    "    if 'cities' not in one_analysis:\n",
    "        return []\n",
    "\n",
    "    return one_analysis['cities']\n",
    "    \n",
    "cities = [get_cities(value) for key, value in analysis.items()]\n",
    "cities = sorted(list(set([item for sublist in cities for item in sublist])))"
   ]
  },
  {
   "cell_type": "code",
   "execution_count": 49,
   "metadata": {},
   "outputs": [],
   "source": [
    "def get_countries(one_analysis):\n",
    "    if one_analysis is None:\n",
    "        return []\n",
    "\n",
    "    if 'countries' not in one_analysis:\n",
    "        return []\n",
    "\n",
    "    return one_analysis['countries']\n",
    "    \n",
    "countries = [get_countries(value) for key, value in analysis.items()]\n",
    "countries = sorted(list(set([item for sublist in countries for item in sublist])))"
   ]
  },
  {
   "cell_type": "code",
   "execution_count": 54,
   "metadata": {},
   "outputs": [],
   "source": [
    "gmaps = googlemaps.Client(key=os.environ['GOOGLE_MAPS_API_KEY'])\n",
    "\n",
    "city_coordinates = {}\n",
    "country_coordinates = {}\n",
    "\n",
    "\n",
    "if USE_CITIES:\n",
    "    for city in cities:\n",
    "        geocode_result = gmaps.geocode(city)\n",
    "        if geocode_result:\n",
    "            lat = geocode_result[0][\"geometry\"][\"location\"][\"lat\"]\n",
    "            lng = geocode_result[0][\"geometry\"][\"location\"][\"lng\"]\n",
    "            city_coordinates[city] = (lat, lng)\n",
    "        else:\n",
    "            city_coordinates[city] = (None, None)\n",
    "else:\n",
    "    for country in countries:\n",
    "        geocode_result = gmaps.geocode(country)\n",
    "        if geocode_result:\n",
    "            lat = geocode_result[0][\"geometry\"][\"location\"][\"lat\"]\n",
    "            lng = geocode_result[0][\"geometry\"][\"location\"][\"lng\"]\n",
    "            country_coordinates[country] = (lat, lng)\n",
    "        else:\n",
    "            country_coordinates[country] = (None, None)\n"
   ]
  },
  {
   "cell_type": "code",
   "execution_count": 55,
   "metadata": {},
   "outputs": [],
   "source": [
    "import ast\n",
    "\n",
    "# Function to extract country name (first country name)\n",
    "def extract_country(country_string):\n",
    "    if country_string:\n",
    "        try:\n",
    "            country_dict = ast.literal_eval(country_string)  # Convert string to dictionary\n",
    "            if country_dict and isinstance(country_dict, dict):\n",
    "                country_values = list(country_dict.values())\n",
    "                if country_values:\n",
    "                    return country_values[0]\n",
    "        except (ValueError, SyntaxError):\n",
    "            # Handle the case where the string is not a valid dictionary\n",
    "            pass\n",
    "    return None\n",
    "\n",
    "# Apply the function to the DataFrame column\n",
    "# Added a 'Country' column some values are None\n",
    "movie_metadata['Country'] = movie_metadata['Movie countries (Freebase ID:name tuples)'].apply(extract_country)"
   ]
  },
  {
   "cell_type": "code",
   "execution_count": 126,
   "metadata": {},
   "outputs": [],
   "source": [
    "### Standardize country names \n",
    "\n",
    "movie_metadata['Country'] = movie_metadata['Country'].replace('United States of America', 'United States')\n",
    "movie_metadata['Country'] = movie_metadata['Country'].replace('England', 'United Kingdom')\n",
    "movie_metadata['Country'] = movie_metadata['Country'].replace('Kingdom of Great Britain', 'United Kingdom')\n",
    "movie_metadata['Country'] = movie_metadata['Country'].replace('German Democratic Republic', 'Germany')\n",
    "movie_metadata['Country'] = movie_metadata['Country'].replace('Weimar Republic', 'Germany')\n",
    "movie_metadata['Country'] = movie_metadata['Country'].replace('Serbia and Montenegro', 'Serbia')\n"
   ]
  },
  {
   "cell_type": "code",
   "execution_count": 57,
   "metadata": {},
   "outputs": [],
   "source": [
    "cities_movies = {city: [] for city in cities}\n",
    "countries_movies = {country: [] for country in countries}\n",
    "\n",
    "for key, value in analysis.items():\n",
    "    movie_cities = get_cities(value)\n",
    "    movie_countries = get_countries(value)\n",
    "\n",
    "    for city in movie_cities:\n",
    "        if city in cities_movies:\n",
    "            cities_movies[city].append(int(key))\n",
    "\n",
    "    for country in movie_countries:\n",
    "        if country in countries_movies:\n",
    "            countries_movies[country].append(int(key))"
   ]
  },
  {
   "cell_type": "code",
   "execution_count": 58,
   "metadata": {},
   "outputs": [],
   "source": [
    "# Remove all countries with less than 10 movies both from countries and countries_movies\n",
    "countries = [country for country in countries if len(countries_movies[country]) >= 10]\n",
    "countries_movies = {country: countries_movies[country] for country in countries}"
   ]
  },
  {
   "cell_type": "code",
   "execution_count": 59,
   "metadata": {},
   "outputs": [],
   "source": [
    "# Remove all cities with less than 10 movies both from cities and cities_movies\n",
    "cities = [city for city in cities if len(cities_movies[city]) >= 10]\n",
    "cities_movies = {city: cities_movies[city] for city in cities}"
   ]
  },
  {
   "cell_type": "markdown",
   "metadata": {},
   "source": [
    "#### Select a list of city we are interested in for poc "
   ]
  },
  {
   "cell_type": "markdown",
   "metadata": {},
   "source": [
    "check if there could be significant différences for a city violence représentation for example between two production movie countries\n",
    "\n",
    "les pays qui font le plus de film sur Paris\n",
    "\n",
    "majoritairement la vision qu ils en ont\n",
    "\n",
    "que ce soit le genre du film ou autre et si ca differe de la norme ou du pays d'origine de la ville"
   ]
  },
  {
   "cell_type": "code",
   "execution_count": 106,
   "metadata": {},
   "outputs": [],
   "source": [
    "## Cities of interest COI\n",
    "city_of_interest = [\n",
    "    'London'\n",
    "]\n"
   ]
  },
  {
   "cell_type": "code",
   "execution_count": 107,
   "metadata": {},
   "outputs": [
    {
     "name": "stdout",
     "output_type": "stream",
     "text": [
      "London: [32748561, 12938853, 19273689, 182737, 156632, 4596602, 707808, 28581630, 27970617, 28252265, 26113564, 5425205, 5150901, 4329971, 9313886, 484153, 33184757, 17404922, 11399740, 18698088, 23150767, 2821933, 12715927, 3737258, 6574607, 1161955, 6542034, 22361477, 4968653, 16652785, 949857, 1139763, 268833, 35705743, 29003237, 12270563, 887164, 16456979, 241603, 11761134, 3085944, 2745708, 247098, 9271078, 33942920, 210216, 80493, 1676093, 5047454, 2425302, 27485441, 3022675, 12583457, 28103735, 1659954, 865607, 300910, 19101562, 248601, 9951334, 24328800, 3027029, 19284029, 1623252, 19332675, 30785672, 3116779, 7377259, 179351, 1219214, 20453522, 11350779, 1061565, 10615842, 34760845, 1539714, 32784153, 10004055, 23766166, 2188611, 32803232, 13443734, 28149238, 1046559, 20762022, 22787999, 105434, 2249957, 13253372, 129312, 2478633, 36036304, 28352353, 24461292, 4380389, 17465733, 3822078, 1307956, 4073679, 23380332, 583273, 15052685, 3015828, 1428872, 1969580, 7287091, 217750, 26868913, 4783479, 24811418, 31127367, 28413162, 4829230, 24277283, 16150645, 33567266, 25433944, 35230042, 25955274, 17193728, 9092451, 13238459, 25223887, 13702809, 9013552, 3909180, 25677728, 11507737, 12995615, 22834804, 18520285, 15277826, 35981207, 10495987, 18702022, 183741, 15007082, 11925733, 488210, 28820585, 14997446, 2952485, 13494664, 34518277, 10133874, 18964723, 145892, 19208905, 448385, 8856844, 15896980, 203993, 1027060, 23160762, 28417976, 3166845, 4806533, 3116175, 30958947, 982199, 633832, 18056742, 2509613, 1162528, 3682257, 7299710, 3702166, 556241, 24155746, 17987664, 6149282, 2576435, 204019, 6852733, 24486141, 10378192, 6492028, 1430395, 28853738, 3004194, 19680415, 23521224, 28422883, 1705391, 2465336, 28776744, 10980086, 4002677, 13687674, 9411771, 660343, 15861151, 4836072, 19590392, 77223, 30824882, 2750377, 14415759, 2345042, 13938940, 2755048, 2297089, 16235196, 175668, 9706751, 19036635, 1001727, 8049233, 14693181, 5020056, 4515396, 1371186, 8580865, 10877732, 10353968, 18920419, 12625575, 9461535, 21481795, 2357737, 10122950, 628120, 24878469, 8708612, 18427933, 3269896, 2676861, 32312987, 5851777, 1597802, 5656662, 27042639, 20077388, 1126572, 3401395, 25793288, 451821, 2330988, 12706663, 6435145, 36325441, 24750472, 12010127, 1128444, 541642, 1053502, 1131832, 18908881, 44752, 1243901, 406917, 27665775, 1001692, 23237090, 4451435, 28757535, 32584198, 171047, 15003245, 14855818, 5105287, 1815221, 859131, 650922, 28397585, 24283702, 6322029, 4194975, 5164582, 29067819, 27429073, 10962872, 21165146, 15061916, 20998864, 2788063, 27755114, 28646399, 5148210, 6944471, 29200545, 12364636, 16839388, 28365073, 1888433, 8288100, 4325767, 16200112, 88075, 581185, 3033392, 4267117, 19308640, 25256753, 4764761, 32883894, 214783, 1708039, 7850702, 16330093, 30979351, 18419529, 1376802, 18906738, 6555693, 5832380, 9928913, 15899017, 18884961, 34080708, 27420904, 26518860, 14145137, 11508746, 27193276, 21606896, 1526756, 6717398, 8600276, 1357149, 5792459, 27190944, 23694916, 28250083, 2279601, 7267220, 10367777, 20632582, 7517533, 8486301, 667372, 25232106, 7029001, 68082, 563040, 32012357, 633411, 1044633, 6245053, 24785563, 3650653, 2391447, 26494388, 18512674, 19351485, 2025204, 1653423, 28355486, 1428952, 5641788, 12111866, 8854150, 4700217, 18503404, 17578735, 35013635, 29017966, 667371, 3524875, 11934067, 35061219, 27292746, 508044, 14658543, 1191380, 18017481, 30859718, 7660132, 890812, 2793610, 3978358, 3150125, 3904788, 16262723, 35733178, 27210300, 1880660, 29733028, 23119616, 16782047, 13527082, 19836341, 171058, 6196919, 27215149, 12530079, 3161589, 9378574, 19163688, 6456053, 32828021, 3509709, 106344, 7780069, 1997332, 7998296, 4836350, 7954624, 29148033, 26667879, 586023, 12976768, 3408117, 9507768, 29166776, 4056040, 24304179, 872912, 359014, 3654271, 34985252, 7126772, 1428955, 61501, 35923292, 28509475, 4798258, 19268462, 917665, 1086034, 33335392, 308898, 32582218, 19596597, 254991, 14623727, 4871676, 5777111, 25090637, 3751746, 28785017, 97732, 4473622, 21456144, 33895400, 2833942, 3894411, 9355314, 1924012, 10542644, 29172522, 32931660, 2557469, 1273558, 9776999, 8752596, 26616131, 31893898, 457578, 709391, 10540961, 9441132, 65669, 471370, 7264941, 9732060, 29034540, 19205177, 18983118, 2091547, 4035081, 18906833, 32995380, 357525, 16395026, 14123005, 9229395, 18497134, 940668, 16247804, 27578636, 163438, 16694193, 7506680, 1769325, 19078391, 1702604, 26347221, 1371113, 9378717, 26730077, 27579935, 32656988, 10541514, 5079650, 255858, 4555159, 5644608, 16968512, 4061041, 3208449, 18080137, 24733835, 10010910, 2918399, 212981, 8551364, 3190591, 3566511, 14436640, 13325838, 1466210, 28115273, 306812, 7101280, 205400, 6872687, 19460334, 2524297, 33033015, 2543730, 28833073, 4098741, 12496727, 21153376, 1961644, 8581781, 12769985, 186856, 19820048, 19034709, 33175021, 14890309, 682628, 2506370, 7154611, 7255312, 25502856, 16970911, 27695067, 6081230, 30211314, 21566359, 26209823, 14058109, 6559084, 3427182, 30242825, 14343606, 26353271, 3000097, 1645634, 714358, 21576291, 14101294, 875305, 19203216, 12213090, 28249206, 15905726, 8885678, 27742629, 34083061, 5374123, 1425779, 22712364, 3044673, 22071969, 5757360, 4607239, 1673325, 13635649, 11327579, 2052143, 21250867, 2056428, 10142493, 3818454, 32802867, 4205606, 16186514, 142426, 35889525, 5182584, 2171853, 2236329, 640651, 4836572, 13275998, 7291111, 163437, 25893091, 1508787, 11350697, 6214495, 19554764, 4006045, 2317590, 9523372, 9497934, 469019, 26985757, 28344827, 29193924, 4607159, 27590629, 23367787, 7048192, 2728423, 28475942, 11558237, 12161523, 34506695, 4894733, 25584574, 15534756, 34613355, 3821533, 4109723, 28133007, 11663591, 30581, 309070, 6143174, 156644, 31319793, 12121822, 12620385, 166186, 1852179, 3524655, 27762733, 8704400, 23664336, 4596922, 4886997, 19697999, 4429858, 3598984, 5424460, 1443465, 17789399, 31863888, 14080384, 31508047, 988136, 27398409, 13331154, 24384740, 5841657, 9176428, 166121, 7120714, 2891096, 32578669, 18885034, 22637915, 1241597, 29250382, 1585387, 26178850, 18896556, 23652051, 35999139, 2831557, 9366283, 26278287, 11744739, 1284106, 2457278, 21191163, 2882942, 25080984, 13503601, 27875557, 20354657, 2506836, 14408433, 27716897, 14286254, 4367482, 133671, 15620889, 28347040, 1693768, 14166634, 10239839, 2763214, 7916607, 1469871, 4191487, 18906899, 3723140, 13807049, 28419339, 2032945, 7246171, 1653264, 1458713, 2979644, 5082550, 27144410, 23951630, 8626367, 28692407, 20645492, 1771007, 5542667, 24913134, 28204833, 1231856, 18780551, 1936491, 2573688, 1265864, 7025464, 168929, 2809621, 27452402, 1623233, 1866289, 15202473, 6945281, 3551668, 22523628, 3558237, 28326154, 5565318, 26546695, 7852430, 3191060, 1588102, 4305147, 8121583, 11312191, 25357930, 32441881, 3030953, 1977174, 919722, 98503, 18733228, 13713239, 1052246, 8280960, 222534, 23761430, 4362030, 11777954, 3624149, 1815970, 4152420, 31122996, 26512722, 1540319, 20827074, 26297141, 4053827, 11638265, 9088886, 1238341, 6152265, 22110321, 17890259, 1273496, 19842633, 1857955, 13368316, 29214531, 4836948, 3915448, 6244334, 144774, 101907, 34224279, 19186546, 22040622, 31630129, 6411396, 28697022, 14035596, 2337131, 34980461, 4738671, 9338127, 28756111, 25175907, 31601288, 32300431, 35999328, 8609048, 34454332, 32420907, 3509741, 73380, 6223567, 18755554, 1485591, 17571858, 1372551, 35243445, 183851, 16585327, 17925680, 1304986, 2179326, 34150988, 18658640, 28873034, 14230594, 11952667, 230839, 7497695, 13078877, 22739948, 3818389, 24153140, 6300597, 26109999, 6459226, 28809499, 24771643, 19087098, 29220422, 30864723, 3640928, 19108576, 8499221, 25430565, 7807762, 21761120, 27544609, 8291511, 1873637, 33343765, 30863353, 8870325, 69625, 1779669, 2006607, 12708457, 913165, 1595142, 7917619, 20621597, 16803295, 26776502, 15062229, 9322577, 4902239, 164698, 25702392, 724258, 23643641, 20357879, 16457387, 4878174, 33388086, 28678178, 16435078, 3591767, 28194808, 2648352, 24108514, 3331330, 21423623, 1004972, 1278961, 2175456, 26334071, 23494455, 33375298, 781758, 2069318, 28304392, 19035964, 7874801, 2969247, 598397, 443972, 19046091, 3900596, 779774, 32880550, 14076924, 11570146, 61519, 30245707, 8511563, 1347607, 19454994, 34674320, 20897294, 2367984, 21008812, 5383633, 62688, 15239845, 28576162, 1373745, 22157803, 650540, 18846797, 825149, 6406551, 8356668, 7347415, 22907524, 24565046, 14656708, 5917218, 28417619, 3653120, 5496726, 29012443, 5082374, 20579735, 2507217, 17294536, 14913280, 6201873, 2205704, 735240, 26445863, 23240836, 7088713, 35753114, 16338862, 5663440, 30608539, 2563741, 14186757, 667361, 5111225, 490101, 23777614, 18965131, 8857538, 18726173, 33550875, 13291318, 21751211, 19165852, 13457313, 3499096, 5358915, 1194509, 3947300, 4278361, 97740, 1891886, 18940234, 71975, 19207939, 28190354, 13314639, 10385898, 28272795, 5566494, 13412536, 29076211, 858575, 12171288, 31054832, 7675727, 19245641, 7508621, 2968661, 1605358, 3966684, 12313925, 13861681, 1643035, 1774803, 3672796, 34411116, 4226034, 3407587, 34351470, 2354145, 12075531, 214331, 6917971, 3822650, 19388177, 33772386, 7000543, 1430376, 2524772, 19646616, 4138142, 28997231, 32452912, 179326, 5023581, 155921, 21434674, 9656385, 9281317, 343404, 7161386, 8648350, 28733517, 20867795, 27875695, 18992327, 287404, 22198915, 4907569, 13807033, 12811780, 2001394, 12466332, 26851379, 31189608, 8466260, 29381597, 15316430, 21155353, 5971538, 1338721, 35430031, 12555559, 2920077, 31052221, 16197097, 1908238, 5524650, 2742724, 523419, 6446071, 32272408, 2592742, 27652105, 32817844, 4556313, 26146732, 9465102, 8172248, 18246000, 240483, 15397651, 1397183, 3718428, 6715354, 16732594, 2500390, 16668629, 6692985, 1064199, 11892585, 24057003, 23172276, 9386023, 295973, 7471088, 1343517, 35016531, 32142896, 11994, 10109752, 11351541, 25306569, 1170621, 8223535, 21150086, 19876240, 8621074, 77856, 1031573, 24310768, 828218, 20634623, 23011287, 8476705, 34191422, 2060350, 871066, 3505515, 25074031, 18969101, 6446044, 20547048, 32519181, 1730084, 27375785, 28929724, 16226377, 19131684, 7087007, 2312056, 3724436, 6536909, 4029751, 957359, 29218227, 14202380, 8406407, 28293207, 12794951, 24139538, 8749213, 1048695, 26008898, 12231265, 23934336, 10468204, 10400208, 11153699, 5082748, 2580504, 20635941, 2405253, 9551895, 3079162, 2345044, 74930, 980461, 8202158, 21754296, 19861657, 9384481, 18927989, 5720183, 26218275, 151465, 5103545, 3326435, 740744, 5008724, 28875276, 606614, 30804670, 33052180, 3745331, 12207260, 82390, 21593765, 3006708, 17891259, 11366102, 1970527, 25742466, 5377926, 31250618, 35069179, 34726339, 34232488, 10986762, 17128512, 337740, 5260320, 18790154, 5422935, 27193032, 37068, 7561586, 9822891, 3750829, 9035550, 770098, 265975, 25412008, 10418324, 18908777, 1357923, 14254136, 24314116, 19168185, 29046736, 12160883, 13485985, 1743769, 5388717, 2020117, 7151371, 22059060, 4103051, 8208923, 2853229, 5549065, 194249, 1376388, 370064, 670407, 2572919]\n"
     ]
    }
   ],
   "source": [
    "# Extract list of movie IDS where the plot takes place in the city of intereset\n",
    "coi_movies = {}\n",
    "for city in city_of_interest:\n",
    "    coi_movies[city] = cities_movies.get(city, [])\n",
    "\n",
    "# Print the lists for each city\n",
    "for city, movie_ids in coi_movies.items():\n",
    "    print(f\"{city}: {movie_ids}\")"
   ]
  },
  {
   "cell_type": "code",
   "execution_count": 108,
   "metadata": {},
   "outputs": [
    {
     "data": {
      "text/plain": [
       "1176"
      ]
     },
     "execution_count": 108,
     "metadata": {},
     "output_type": "execute_result"
    }
   ],
   "source": [
    "len(coi_movies['London'])"
   ]
  },
  {
   "cell_type": "code",
   "execution_count": 63,
   "metadata": {},
   "outputs": [
    {
     "data": {
      "text/plain": [
       "['Copenhagen',\n",
       " 'Cornwall',\n",
       " 'Crystal Lake',\n",
       " 'Cuba',\n",
       " 'Dakar',\n",
       " 'Dallas',\n",
       " 'Damascus',\n",
       " 'Darjeeling',\n",
       " 'Delhi',\n",
       " 'Denmark']"
      ]
     },
     "execution_count": 63,
     "metadata": {},
     "output_type": "execute_result"
    }
   ],
   "source": [
    "cities[70:80]"
   ]
  },
  {
   "cell_type": "code",
   "execution_count": 109,
   "metadata": {},
   "outputs": [],
   "source": [
    "#### Non exhaustive list to exclude the production country of a city\n",
    "cities_in_country ={\n",
    " 'Argentina':['Buenos Aires',],\n",
    " 'Australia':['Adelaide','Brisbane'],\n",
    " 'Belgium':['Brussels'],\n",
    " 'Canada':['Calgary',],\n",
    " 'Egypt':['Alexandria','Cairo'],\n",
    " 'France':['Paris','Cannes'],\n",
    " 'Germany':['Berlin'],\n",
    " 'Greece':['Athens'],\n",
    " 'Holland':['Amsterdam'],\n",
    " 'Hungary':['Budapest'],\n",
    " 'India':['Bangalore','Bombay','Calcutta','Chandigarh','Chennai'],\n",
    " 'Iraq':['Baghdad'],\n",
    " 'Ireland':['Belfast'],\n",
    " 'Lebanon':['Beirut'],\n",
    " 'Mexico':['Acapulco'],\n",
    " 'Morocco':['Casablanca'],\n",
    " 'Serbia':['Belgrade'],\n",
    " 'South Africa':['Cape Town'],\n",
    " 'South Korea':['Busan'],\n",
    " 'Spain':['Barcelona'],\n",
    " 'Thailand':['Bangkok'],\n",
    " 'United Kingdom':['Bath','Birmingham','Blackpool','Brighton','Bristol','Cambridge','London'],\n",
    " 'United States':['Alabama','Alaska','Albuquerque','Arizona','Arkansas','Atlanta','Auckland','Austin','Albany', \n",
    "                  'Atlantic City','Bakersfield','Baltimore','Berkeley','Beverly Hills','Boston','Broadway',\n",
    "                  'Bronx','Brooklyn','Buffalo','California','Cape Cod','Central Park','Charleston','Chicago',\n",
    "                  'Cincinnati','New York'],\n",
    " 'Venezuela':['Caracas'],\n",
    "}"
   ]
  },
  {
   "cell_type": "code",
   "execution_count": 127,
   "metadata": {},
   "outputs": [
    {
     "name": "stdout",
     "output_type": "stream",
     "text": [
      "London: [12938853, 707808, 27970617, 5425205, 4329971, 17404922, 11399740, 2821933, 12715927, 6542034, 4968653, 268833, 29003237, 16456979, 241603, 3085944, 9271078, 33942920, 80493, 5047454, 2425302, 27485441, 12583457, 1659954, 300910, 19101562, 9951334, 24328800, 19284029, 19332675, 179351, 1219214, 11350779, 10615842, 32784153, 10004055, 32803232, 13443734, 1046559, 22787999, 129312, 4380389, 17465733, 1307956, 23380332, 583273, 15052685, 26868913, 28413162, 4829230, 16150645, 33567266, 25433944, 25955274, 9092451, 13238459, 13702809, 3909180, 11507737, 18520285, 35981207, 10495987, 18702022, 183741, 15007082, 11925733, 488210, 14997446, 2952485, 34518277, 10133874, 18964723, 145892, 19208905, 448385, 8856844, 15896980, 1027060, 23160762, 4806533, 3116175, 982199, 18056742, 2509613, 1162528, 3682257, 556241, 17987664, 6149282, 204019, 6852733, 24486141, 6492028, 28853738, 13687674, 660343, 15861151, 4836072, 77223, 2750377, 14415759, 13938940, 2755048, 2297089, 9706751, 8049233, 4515396, 8580865, 10353968, 12625575, 21481795, 2357737, 10122950, 628120, 24878469, 18427933, 3269896, 2676861, 1597802, 5656662, 20077388, 1126572, 25793288, 451821, 2330988, 6435145, 36325441, 24750472, 12010127, 541642, 1053502, 1131832, 44752, 4451435, 171047, 5105287, 1815221, 859131, 650922, 28397585, 24283702, 4194975, 29067819, 27429073, 10962872, 21165146, 20998864, 2788063, 27755114, 28646399, 5148210, 12364636, 16839388, 1888433, 4325767, 16200112, 88075, 581185, 3033392, 4764761, 214783, 1708039, 7850702, 30979351, 18906738, 9928913, 34080708, 27420904, 26518860, 14145137, 11508746, 27193276, 21606896, 1526756, 6717398, 8600276, 1357149, 5792459, 23694916, 28250083, 2279601, 10367777, 20632582, 7517533, 667372, 25232106, 68082, 563040, 633411, 24785563, 3650653, 2391447, 19351485, 1653423, 8854150, 4700217, 17578735, 35013635, 667371, 11934067, 18017481, 890812, 2793610, 3904788, 16262723, 27210300, 1880660, 29733028, 19836341, 171058, 6196919, 12530079, 3509709, 106344, 1997332, 29148033, 3408117, 9507768, 3654271, 61501, 28509475, 4798258, 917665, 308898, 19596597, 254991, 5777111, 25090637, 3751746, 97732, 4473622, 3894411, 9355314, 1924012, 2557469, 9776999, 26616131, 31893898, 457578, 709391, 65669, 471370, 9732060, 29034540, 2091547, 4035081, 357525, 9229395, 18497134, 940668, 16247804, 27578636, 163438, 7506680, 19078391, 26347221, 1371113, 10541514, 5079650, 255858, 4555159, 16968512, 18080137, 2918399, 3566511, 14436640, 1466210, 306812, 33033015, 12496727, 21153376, 186856, 14890309, 7255312, 25502856, 27695067, 6081230, 6559084, 3427182, 26353271, 3000097, 875305, 12213090, 34083061, 5374123, 22712364, 1673325, 13635649, 2052143, 2056428, 4205606, 142426, 35889525, 5182584, 2171853, 2236329, 13275998, 163437, 25893091, 11350697, 6214495, 2317590, 9523372, 469019, 23367787, 7048192, 2728423, 34506695, 25584574, 34613355, 3821533, 11663591, 30581, 309070, 156644, 12121822, 1852179, 3524655, 27762733, 23664336, 19697999, 5424460, 1443465, 31508047, 988136, 27398409, 24384740, 5841657, 9176428, 166121, 7120714, 32578669, 22637915, 1241597, 1585387, 26178850, 18896556, 23652051, 2831557, 1284106, 2457278, 25080984, 27875557, 2506836, 14408433, 27716897, 4367482, 2763214, 1469871, 4191487, 3723140, 7246171, 1653264, 2979644, 8626367, 20645492, 5542667, 28204833, 1231856, 18780551, 2573688, 1265864, 168929, 2809621, 15202473, 3551668, 3558237, 3191060, 1588102, 8121583, 11312191, 25357930, 3030953, 1977174, 919722, 18733228, 13713239, 8280960, 222534, 23761430, 11777954, 3624149, 1815970, 26512722, 11638265, 9088886, 1238341, 6152265, 22110321, 19842633, 13368316, 4836948, 3915448, 6244334, 144774, 22040622, 31630129, 6411396, 34980461, 32300431, 8609048, 34454332, 32420907, 3509741, 73380, 183851, 16585327, 1304986, 18658640, 28873034, 14230594, 230839, 3818389, 6300597, 26109999, 30864723, 3640928, 25430565, 7807762, 8870325, 913165, 1595142, 7917619, 15062229, 9322577, 4902239, 164698, 724258, 16435078, 3591767, 28194808, 3331330, 1004972, 1278961, 23494455, 781758, 2069318, 2969247, 443972, 3900596, 779774, 11570146, 61519, 8511563, 19454994, 34674320, 5383633, 62688, 15239845, 22157803, 650540, 18846797, 825149, 6406551, 8356668, 14656708, 3653120, 20579735, 2507217, 17294536, 14913280, 6201873, 2205704, 735240, 23240836, 35753114, 14186757, 667361, 5111225, 490101, 23777614, 18965131, 8857538, 18726173, 33550875, 13291318, 21751211, 13457313, 3499096, 5358915, 3947300, 1891886, 28190354, 28272795, 5566494, 13412536, 858575, 12171288, 7675727, 7508621, 3966684, 1643035, 1774803, 3672796, 3407587, 34351470, 12075531, 6917971, 3822650, 19388177, 33772386, 7000543, 2524772, 4138142, 179326, 5023581, 155921, 21434674, 9281317, 8648350, 20867795, 287404, 22198915, 4907569, 13807033, 2001394, 12466332, 8466260, 15316430, 5971538, 12555559, 2920077, 31052221, 1908238, 2592742, 27652105, 4556313, 26146732, 9465102, 3718428, 6715354, 2500390, 16668629, 1064199, 11892585, 24057003, 295973, 1343517, 11994, 10109752, 11351541, 1170621, 77856, 1031573, 24310768, 828218, 8476705, 34191422, 2060350, 32519181, 1730084, 27375785, 28929724, 16226377, 7087007, 2312056, 957359, 14202380, 12794951, 8749213, 1048695, 26008898, 10468204, 10400208, 3079162, 2345044, 74930, 980461, 8202158, 21754296, 19861657, 9384481, 5720183, 26218275, 151465, 3326435, 740744, 5008724, 30804670, 3745331, 12207260, 21593765, 3006708, 17891259, 1970527, 25742466, 5377926, 10986762, 17128512, 337740, 18790154, 5422935, 7561586, 3750829, 770098, 10418324, 24314116, 12160883, 13485985, 1743769, 5388717, 22059060, 4103051, 8208923, 2853229, 5549065, 194249, 370064, 670407, 2572919]\n"
     ]
    }
   ],
   "source": [
    "# Filter movie IDs based on the country in movie_metadata (takes out movies from the country of COI)\n",
    "foreign_movies = {}\n",
    "for city, movie_ids in coi_movies.items():\n",
    "    filtered_movie_ids = []\n",
    "    for movie_id in movie_ids:\n",
    "        matching_movies = movie_metadata[movie_metadata['Wikipedia movie ID'] == movie_id]\n",
    "        if not matching_movies.empty:\n",
    "            movie_country = matching_movies.iloc[0]['Country']\n",
    "            city_country = next((country for country, cities in cities_in_country.items() if city in cities), None)\n",
    "            if movie_country is not None and movie_country != city_country:\n",
    "                filtered_movie_ids.append(movie_id)\n",
    "    foreign_movies[city] = filtered_movie_ids\n",
    "\n",
    "# Print the filtered lists for each city\n",
    "for city, movie_ids in foreign_movies.items():\n",
    "    print(f\"{city}: {movie_ids}\")"
   ]
  },
  {
   "cell_type": "code",
   "execution_count": 128,
   "metadata": {},
   "outputs": [],
   "source": [
    "# Create a dictionary to regroup movie IDs by country of production\n",
    "regrouped_by_country = {}\n",
    "\n",
    "for city, movie_ids in foreign_movies.items():\n",
    "    for movie_id in movie_ids:\n",
    "        matching_movies = movie_metadata[movie_metadata['Wikipedia movie ID'] == movie_id]\n",
    "        if not matching_movies.empty:\n",
    "            movie_country = matching_movies.iloc[0]['Country']\n",
    "            if movie_country is not None:\n",
    "                if movie_country not in regrouped_by_country:\n",
    "                    regrouped_by_country[movie_country] = []\n",
    "                regrouped_by_country[movie_country].append(movie_id)\n"
   ]
  },
  {
   "cell_type": "code",
   "execution_count": 129,
   "metadata": {},
   "outputs": [],
   "source": [
    "# Create a dictionary to regroup movie IDs by city and country\n",
    "regrouped_by_city_and_country = {}\n",
    "\n",
    "for city, movie_ids in foreign_movies.items():\n",
    "    city_dict = {}\n",
    "    for movie_id in movie_ids:\n",
    "        matching_movies = movie_metadata[movie_metadata['Wikipedia movie ID'] == movie_id]\n",
    "        if not matching_movies.empty:\n",
    "            movie_country = matching_movies.iloc[0]['Country']\n",
    "            if movie_country is not None:\n",
    "                if movie_country not in city_dict:\n",
    "                    city_dict[movie_country] = []\n",
    "                city_dict[movie_country].append(movie_id)\n",
    "    regrouped_by_city_and_country[city] = city_dict\n"
   ]
  },
  {
   "cell_type": "markdown",
   "metadata": {},
   "source": [
    "#### Could be used for a lot other variables than just number of movies or percentage of movies (with : genres / good &  evil  / .... ???)"
   ]
  },
  {
   "cell_type": "code",
   "execution_count": 122,
   "metadata": {},
   "outputs": [
    {
     "data": {
      "text/plain": [
       "610"
      ]
     },
     "execution_count": 122,
     "metadata": {},
     "output_type": "execute_result"
    }
   ],
   "source": [
    "len(foreign_movies['London'])"
   ]
  },
  {
   "cell_type": "code",
   "execution_count": 123,
   "metadata": {},
   "outputs": [
    {
     "data": {
      "text/plain": [
       "401"
      ]
     },
     "execution_count": 123,
     "metadata": {},
     "output_type": "execute_result"
    }
   ],
   "source": [
    "len(regrouped_by_city_and_country['London']['United States'])"
   ]
  },
  {
   "cell_type": "code",
   "execution_count": 124,
   "metadata": {},
   "outputs": [
    {
     "data": {
      "text/plain": [
       "65.73770491803279"
      ]
     },
     "execution_count": 124,
     "metadata": {},
     "output_type": "execute_result"
    }
   ],
   "source": [
    "(len(regrouped_by_city_and_country['London']['United States'])/len(foreign_movies['London']))*100"
   ]
  },
  {
   "cell_type": "code",
   "execution_count": 135,
   "metadata": {},
   "outputs": [
    {
     "data": {
      "text/plain": [
       "34117"
      ]
     },
     "execution_count": 135,
     "metadata": {},
     "output_type": "execute_result"
    }
   ],
   "source": [
    "### \n",
    "movie_metadata['Country'].value_counts().get('United States', 0)"
   ]
  },
  {
   "cell_type": "code",
   "execution_count": null,
   "metadata": {},
   "outputs": [],
   "source": [
    "len(movie_metadata['Country'])"
   ]
  },
  {
   "cell_type": "code",
   "execution_count": 130,
   "metadata": {},
   "outputs": [],
   "source": [
    "### Scaled by % of  a country divided the total foreign movies \n",
    "\n",
    "coi = 'London'\n",
    "data_foreign = {}\n",
    "\n",
    "\n",
    "for country in regrouped_by_city_and_country[coi].keys() :\n",
    "    \n",
    "    df = pd.DataFrame({\n",
    "        'Latitude' : [country_coordinates[country][0]],\n",
    "        'Longitude' : [country_coordinates[country][1]],\n",
    "        'Representation of COI in %' : (len(regrouped_by_city_and_country[coi][country])/len(foreign_movies[coi]))*100\n",
    "    })\n",
    "    data_foreign[country] = df"
   ]
  },
  {
   "cell_type": "code",
   "execution_count": null,
   "metadata": {},
   "outputs": [],
   "source": [
    "countries_movies['USA']"
   ]
  },
  {
   "cell_type": "code",
   "execution_count": null,
   "metadata": {},
   "outputs": [],
   "source": [
    "### Scaled by % of  a country divided the total countries movies \n",
    "\n",
    "coi = 'London'\n",
    "data_foreign = {}\n",
    "\n",
    "\n",
    "for country in regrouped_by_city_and_country[coi].keys() :\n",
    "    \n",
    "    df = pd.DataFrame({\n",
    "        'Latitude' : [country_coordinates[country][0]],\n",
    "        'Longitude' : [country_coordinates[country][1]],\n",
    "        'Representation of COI in %' : (len(regrouped_by_city_and_country[coi][country])/len(countries_movies[country]))*100\n",
    "    })\n",
    "    data_foreign[country] = df"
   ]
  },
  {
   "cell_type": "code",
   "execution_count": 131,
   "metadata": {},
   "outputs": [
    {
     "data": {
      "text/plain": [
       "{'United States':    Latitude  Longitude  Representation of COI in %\n",
       " 0  37.09024 -95.712891                   65.737705,\n",
       " 'France':     Latitude  Longitude  Representation of COI in %\n",
       " 0  46.227638   2.213749                    8.196721,\n",
       " 'Hong Kong':     Latitude   Longitude  Representation of COI in %\n",
       " 0  22.319304  114.169361                    0.491803,\n",
       " 'Australia':     Latitude   Longitude  Representation of COI in %\n",
       " 0 -25.274398  133.775136                    2.459016,\n",
       " 'Spain':     Latitude  Longitude  Representation of COI in %\n",
       " 0  40.463667   -3.74922                     1.47541,\n",
       " 'Russia':    Latitude   Longitude  Representation of COI in %\n",
       " 0  61.52401  105.318756                    0.327869,\n",
       " 'India':     Latitude  Longitude  Representation of COI in %\n",
       " 0  20.593684   78.96288                   10.163934,\n",
       " 'Austria':     Latitude  Longitude  Representation of COI in %\n",
       " 0  47.516231  14.550072                    0.491803,\n",
       " 'Ireland':     Latitude  Longitude  Representation of COI in %\n",
       " 0  53.779755  -7.305531                    1.147541,\n",
       " 'Germany':     Latitude  Longitude  Representation of COI in %\n",
       " 0  51.165691  10.451526                     1.47541,\n",
       " 'Canada':     Latitude   Longitude  Representation of COI in %\n",
       " 0  56.130366 -106.346771                    2.295082,\n",
       " 'Japan':     Latitude   Longitude  Representation of COI in %\n",
       " 0  36.204824  138.252924                    1.311475,\n",
       " 'Philippines':     Latitude   Longitude  Representation of COI in %\n",
       " 0  12.879721  121.774017                    0.163934,\n",
       " 'Italy':    Latitude  Longitude  Representation of COI in %\n",
       " 0  41.87194   12.56738                     1.47541,\n",
       " 'Soviet Union':   Latitude Longitude  Representation of COI in %\n",
       " 0     None      None                    0.327869,\n",
       " 'Turkey':     Latitude  Longitude  Representation of COI in %\n",
       " 0  38.963745  35.243322                    0.163934,\n",
       " 'West Germany':     Latitude  Longitude  Representation of COI in %\n",
       " 0  51.165691  10.451526                    0.327869,\n",
       " 'Nigeria':    Latitude  Longitude  Representation of COI in %\n",
       " 0  9.081999   8.675277                    0.327869,\n",
       " 'Colombia':    Latitude  Longitude  Representation of COI in %\n",
       " 0  4.570868 -74.297333                    0.163934,\n",
       " 'Switzerland':     Latitude  Longitude  Representation of COI in %\n",
       " 0  46.818188   8.227512                    0.327869,\n",
       " 'South Africa':     Latitude  Longitude  Representation of COI in %\n",
       " 0 -30.559482  22.937506                    0.163934,\n",
       " 'Thailand':     Latitude   Longitude  Representation of COI in %\n",
       " 0  15.870032  100.992541                    0.163934,\n",
       " 'Iran':     Latitude  Longitude  Representation of COI in %\n",
       " 0  32.427908  53.688046                    0.163934,\n",
       " 'Hungary':     Latitude  Longitude  Representation of COI in %\n",
       " 0  47.162494  19.503304                    0.163934,\n",
       " 'Netherlands':     Latitude  Longitude  Representation of COI in %\n",
       " 0  52.132633   5.291266                    0.163934,\n",
       " 'Finland':    Latitude  Longitude  Representation of COI in %\n",
       " 0  61.92411  25.748151                    0.163934,\n",
       " 'Sweden':     Latitude  Longitude  Representation of COI in %\n",
       " 0  60.128161  18.643501                    0.163934}"
      ]
     },
     "execution_count": 131,
     "metadata": {},
     "output_type": "execute_result"
    }
   ],
   "source": [
    "data_foreign"
   ]
  },
  {
   "cell_type": "code",
   "execution_count": 133,
   "metadata": {},
   "outputs": [
    {
     "data": {
      "application/vnd.plotly.v1+json": {
       "config": {
        "plotlyServerURL": "https://plot.ly"
       },
       "data": [
        {
         "hoverinfo": "text",
         "lat": [
          37.09024,
          46.227638,
          22.3193039,
          -25.274398,
          40.46366700000001,
          61.52401,
          20.593684,
          47.516231,
          53.77975540000001,
          51.165691,
          56.130366,
          36.204824,
          12.879721,
          41.87194,
          null,
          38.963745,
          51.165691,
          9.081999,
          4.570868,
          46.818188,
          -30.559482,
          15.870032,
          32.427908,
          47.162494,
          52.132633,
          61.92410999999999,
          60.12816100000001
         ],
         "lon": [
          -95.712891,
          2.213749,
          114.1693611,
          133.775136,
          -3.74922,
          105.318756,
          78.96288,
          14.550072,
          -7.3055309,
          10.451526,
          -106.346771,
          138.252924,
          121.774017,
          12.56738,
          null,
          35.243322,
          10.451526,
          8.675277,
          -74.297333,
          8.227511999999999,
          22.937506,
          100.992541,
          53.688046,
          19.503304,
          5.291265999999999,
          25.748151,
          18.643501
         ],
         "marker": {
          "color": "blue",
          "line": {
           "color": "rgb(40,40,40)",
           "width": 0.5
          },
          "size": [
           65.73770491803279,
           8.19672131147541,
           0.49180327868852464,
           2.459016393442623,
           1.4754098360655739,
           0.32786885245901637,
           10.163934426229508,
           0.49180327868852464,
           1.1475409836065573,
           1.4754098360655739,
           2.2950819672131146,
           1.3114754098360655,
           0.16393442622950818,
           1.4754098360655739,
           0.32786885245901637,
           0.16393442622950818,
           0.32786885245901637,
           0.32786885245901637,
           0.16393442622950818,
           0.32786885245901637,
           0.16393442622950818,
           0.16393442622950818,
           0.16393442622950818,
           0.16393442622950818,
           0.16393442622950818,
           0.16393442622950818,
           0.16393442622950818
          ],
          "sizemode": "diameter"
         },
         "text": [
          65.73770491803279,
          8.19672131147541,
          0.49180327868852464,
          2.459016393442623,
          1.4754098360655739,
          0.32786885245901637,
          10.163934426229508,
          0.49180327868852464,
          1.1475409836065573,
          1.4754098360655739,
          2.2950819672131146,
          1.3114754098360655,
          0.16393442622950818,
          1.4754098360655739,
          0.32786885245901637,
          0.16393442622950818,
          0.32786885245901637,
          0.32786885245901637,
          0.16393442622950818,
          0.32786885245901637,
          0.16393442622950818,
          0.16393442622950818,
          0.16393442622950818,
          0.16393442622950818,
          0.16393442622950818,
          0.16393442622950818,
          0.16393442622950818
         ],
         "type": "scattergeo"
        }
       ],
       "layout": {
        "geo": {
         "projection": {
          "type": "natural earth"
         },
         "scope": "world"
        },
        "template": {
         "data": {
          "bar": [
           {
            "error_x": {
             "color": "#2a3f5f"
            },
            "error_y": {
             "color": "#2a3f5f"
            },
            "marker": {
             "line": {
              "color": "#E5ECF6",
              "width": 0.5
             },
             "pattern": {
              "fillmode": "overlay",
              "size": 10,
              "solidity": 0.2
             }
            },
            "type": "bar"
           }
          ],
          "barpolar": [
           {
            "marker": {
             "line": {
              "color": "#E5ECF6",
              "width": 0.5
             },
             "pattern": {
              "fillmode": "overlay",
              "size": 10,
              "solidity": 0.2
             }
            },
            "type": "barpolar"
           }
          ],
          "carpet": [
           {
            "aaxis": {
             "endlinecolor": "#2a3f5f",
             "gridcolor": "white",
             "linecolor": "white",
             "minorgridcolor": "white",
             "startlinecolor": "#2a3f5f"
            },
            "baxis": {
             "endlinecolor": "#2a3f5f",
             "gridcolor": "white",
             "linecolor": "white",
             "minorgridcolor": "white",
             "startlinecolor": "#2a3f5f"
            },
            "type": "carpet"
           }
          ],
          "choropleth": [
           {
            "colorbar": {
             "outlinewidth": 0,
             "ticks": ""
            },
            "type": "choropleth"
           }
          ],
          "contour": [
           {
            "colorbar": {
             "outlinewidth": 0,
             "ticks": ""
            },
            "colorscale": [
             [
              0,
              "#0d0887"
             ],
             [
              0.1111111111111111,
              "#46039f"
             ],
             [
              0.2222222222222222,
              "#7201a8"
             ],
             [
              0.3333333333333333,
              "#9c179e"
             ],
             [
              0.4444444444444444,
              "#bd3786"
             ],
             [
              0.5555555555555556,
              "#d8576b"
             ],
             [
              0.6666666666666666,
              "#ed7953"
             ],
             [
              0.7777777777777778,
              "#fb9f3a"
             ],
             [
              0.8888888888888888,
              "#fdca26"
             ],
             [
              1,
              "#f0f921"
             ]
            ],
            "type": "contour"
           }
          ],
          "contourcarpet": [
           {
            "colorbar": {
             "outlinewidth": 0,
             "ticks": ""
            },
            "type": "contourcarpet"
           }
          ],
          "heatmap": [
           {
            "colorbar": {
             "outlinewidth": 0,
             "ticks": ""
            },
            "colorscale": [
             [
              0,
              "#0d0887"
             ],
             [
              0.1111111111111111,
              "#46039f"
             ],
             [
              0.2222222222222222,
              "#7201a8"
             ],
             [
              0.3333333333333333,
              "#9c179e"
             ],
             [
              0.4444444444444444,
              "#bd3786"
             ],
             [
              0.5555555555555556,
              "#d8576b"
             ],
             [
              0.6666666666666666,
              "#ed7953"
             ],
             [
              0.7777777777777778,
              "#fb9f3a"
             ],
             [
              0.8888888888888888,
              "#fdca26"
             ],
             [
              1,
              "#f0f921"
             ]
            ],
            "type": "heatmap"
           }
          ],
          "heatmapgl": [
           {
            "colorbar": {
             "outlinewidth": 0,
             "ticks": ""
            },
            "colorscale": [
             [
              0,
              "#0d0887"
             ],
             [
              0.1111111111111111,
              "#46039f"
             ],
             [
              0.2222222222222222,
              "#7201a8"
             ],
             [
              0.3333333333333333,
              "#9c179e"
             ],
             [
              0.4444444444444444,
              "#bd3786"
             ],
             [
              0.5555555555555556,
              "#d8576b"
             ],
             [
              0.6666666666666666,
              "#ed7953"
             ],
             [
              0.7777777777777778,
              "#fb9f3a"
             ],
             [
              0.8888888888888888,
              "#fdca26"
             ],
             [
              1,
              "#f0f921"
             ]
            ],
            "type": "heatmapgl"
           }
          ],
          "histogram": [
           {
            "marker": {
             "pattern": {
              "fillmode": "overlay",
              "size": 10,
              "solidity": 0.2
             }
            },
            "type": "histogram"
           }
          ],
          "histogram2d": [
           {
            "colorbar": {
             "outlinewidth": 0,
             "ticks": ""
            },
            "colorscale": [
             [
              0,
              "#0d0887"
             ],
             [
              0.1111111111111111,
              "#46039f"
             ],
             [
              0.2222222222222222,
              "#7201a8"
             ],
             [
              0.3333333333333333,
              "#9c179e"
             ],
             [
              0.4444444444444444,
              "#bd3786"
             ],
             [
              0.5555555555555556,
              "#d8576b"
             ],
             [
              0.6666666666666666,
              "#ed7953"
             ],
             [
              0.7777777777777778,
              "#fb9f3a"
             ],
             [
              0.8888888888888888,
              "#fdca26"
             ],
             [
              1,
              "#f0f921"
             ]
            ],
            "type": "histogram2d"
           }
          ],
          "histogram2dcontour": [
           {
            "colorbar": {
             "outlinewidth": 0,
             "ticks": ""
            },
            "colorscale": [
             [
              0,
              "#0d0887"
             ],
             [
              0.1111111111111111,
              "#46039f"
             ],
             [
              0.2222222222222222,
              "#7201a8"
             ],
             [
              0.3333333333333333,
              "#9c179e"
             ],
             [
              0.4444444444444444,
              "#bd3786"
             ],
             [
              0.5555555555555556,
              "#d8576b"
             ],
             [
              0.6666666666666666,
              "#ed7953"
             ],
             [
              0.7777777777777778,
              "#fb9f3a"
             ],
             [
              0.8888888888888888,
              "#fdca26"
             ],
             [
              1,
              "#f0f921"
             ]
            ],
            "type": "histogram2dcontour"
           }
          ],
          "mesh3d": [
           {
            "colorbar": {
             "outlinewidth": 0,
             "ticks": ""
            },
            "type": "mesh3d"
           }
          ],
          "parcoords": [
           {
            "line": {
             "colorbar": {
              "outlinewidth": 0,
              "ticks": ""
             }
            },
            "type": "parcoords"
           }
          ],
          "pie": [
           {
            "automargin": true,
            "type": "pie"
           }
          ],
          "scatter": [
           {
            "fillpattern": {
             "fillmode": "overlay",
             "size": 10,
             "solidity": 0.2
            },
            "type": "scatter"
           }
          ],
          "scatter3d": [
           {
            "line": {
             "colorbar": {
              "outlinewidth": 0,
              "ticks": ""
             }
            },
            "marker": {
             "colorbar": {
              "outlinewidth": 0,
              "ticks": ""
             }
            },
            "type": "scatter3d"
           }
          ],
          "scattercarpet": [
           {
            "marker": {
             "colorbar": {
              "outlinewidth": 0,
              "ticks": ""
             }
            },
            "type": "scattercarpet"
           }
          ],
          "scattergeo": [
           {
            "marker": {
             "colorbar": {
              "outlinewidth": 0,
              "ticks": ""
             }
            },
            "type": "scattergeo"
           }
          ],
          "scattergl": [
           {
            "marker": {
             "colorbar": {
              "outlinewidth": 0,
              "ticks": ""
             }
            },
            "type": "scattergl"
           }
          ],
          "scattermapbox": [
           {
            "marker": {
             "colorbar": {
              "outlinewidth": 0,
              "ticks": ""
             }
            },
            "type": "scattermapbox"
           }
          ],
          "scatterpolar": [
           {
            "marker": {
             "colorbar": {
              "outlinewidth": 0,
              "ticks": ""
             }
            },
            "type": "scatterpolar"
           }
          ],
          "scatterpolargl": [
           {
            "marker": {
             "colorbar": {
              "outlinewidth": 0,
              "ticks": ""
             }
            },
            "type": "scatterpolargl"
           }
          ],
          "scatterternary": [
           {
            "marker": {
             "colorbar": {
              "outlinewidth": 0,
              "ticks": ""
             }
            },
            "type": "scatterternary"
           }
          ],
          "surface": [
           {
            "colorbar": {
             "outlinewidth": 0,
             "ticks": ""
            },
            "colorscale": [
             [
              0,
              "#0d0887"
             ],
             [
              0.1111111111111111,
              "#46039f"
             ],
             [
              0.2222222222222222,
              "#7201a8"
             ],
             [
              0.3333333333333333,
              "#9c179e"
             ],
             [
              0.4444444444444444,
              "#bd3786"
             ],
             [
              0.5555555555555556,
              "#d8576b"
             ],
             [
              0.6666666666666666,
              "#ed7953"
             ],
             [
              0.7777777777777778,
              "#fb9f3a"
             ],
             [
              0.8888888888888888,
              "#fdca26"
             ],
             [
              1,
              "#f0f921"
             ]
            ],
            "type": "surface"
           }
          ],
          "table": [
           {
            "cells": {
             "fill": {
              "color": "#EBF0F8"
             },
             "line": {
              "color": "white"
             }
            },
            "header": {
             "fill": {
              "color": "#C8D4E3"
             },
             "line": {
              "color": "white"
             }
            },
            "type": "table"
           }
          ]
         },
         "layout": {
          "annotationdefaults": {
           "arrowcolor": "#2a3f5f",
           "arrowhead": 0,
           "arrowwidth": 1
          },
          "autotypenumbers": "strict",
          "coloraxis": {
           "colorbar": {
            "outlinewidth": 0,
            "ticks": ""
           }
          },
          "colorscale": {
           "diverging": [
            [
             0,
             "#8e0152"
            ],
            [
             0.1,
             "#c51b7d"
            ],
            [
             0.2,
             "#de77ae"
            ],
            [
             0.3,
             "#f1b6da"
            ],
            [
             0.4,
             "#fde0ef"
            ],
            [
             0.5,
             "#f7f7f7"
            ],
            [
             0.6,
             "#e6f5d0"
            ],
            [
             0.7,
             "#b8e186"
            ],
            [
             0.8,
             "#7fbc41"
            ],
            [
             0.9,
             "#4d9221"
            ],
            [
             1,
             "#276419"
            ]
           ],
           "sequential": [
            [
             0,
             "#0d0887"
            ],
            [
             0.1111111111111111,
             "#46039f"
            ],
            [
             0.2222222222222222,
             "#7201a8"
            ],
            [
             0.3333333333333333,
             "#9c179e"
            ],
            [
             0.4444444444444444,
             "#bd3786"
            ],
            [
             0.5555555555555556,
             "#d8576b"
            ],
            [
             0.6666666666666666,
             "#ed7953"
            ],
            [
             0.7777777777777778,
             "#fb9f3a"
            ],
            [
             0.8888888888888888,
             "#fdca26"
            ],
            [
             1,
             "#f0f921"
            ]
           ],
           "sequentialminus": [
            [
             0,
             "#0d0887"
            ],
            [
             0.1111111111111111,
             "#46039f"
            ],
            [
             0.2222222222222222,
             "#7201a8"
            ],
            [
             0.3333333333333333,
             "#9c179e"
            ],
            [
             0.4444444444444444,
             "#bd3786"
            ],
            [
             0.5555555555555556,
             "#d8576b"
            ],
            [
             0.6666666666666666,
             "#ed7953"
            ],
            [
             0.7777777777777778,
             "#fb9f3a"
            ],
            [
             0.8888888888888888,
             "#fdca26"
            ],
            [
             1,
             "#f0f921"
            ]
           ]
          },
          "colorway": [
           "#636efa",
           "#EF553B",
           "#00cc96",
           "#ab63fa",
           "#FFA15A",
           "#19d3f3",
           "#FF6692",
           "#B6E880",
           "#FF97FF",
           "#FECB52"
          ],
          "font": {
           "color": "#2a3f5f"
          },
          "geo": {
           "bgcolor": "white",
           "lakecolor": "white",
           "landcolor": "#E5ECF6",
           "showlakes": true,
           "showland": true,
           "subunitcolor": "white"
          },
          "hoverlabel": {
           "align": "left"
          },
          "hovermode": "closest",
          "mapbox": {
           "style": "light"
          },
          "paper_bgcolor": "white",
          "plot_bgcolor": "#E5ECF6",
          "polar": {
           "angularaxis": {
            "gridcolor": "white",
            "linecolor": "white",
            "ticks": ""
           },
           "bgcolor": "#E5ECF6",
           "radialaxis": {
            "gridcolor": "white",
            "linecolor": "white",
            "ticks": ""
           }
          },
          "scene": {
           "xaxis": {
            "backgroundcolor": "#E5ECF6",
            "gridcolor": "white",
            "gridwidth": 2,
            "linecolor": "white",
            "showbackground": true,
            "ticks": "",
            "zerolinecolor": "white"
           },
           "yaxis": {
            "backgroundcolor": "#E5ECF6",
            "gridcolor": "white",
            "gridwidth": 2,
            "linecolor": "white",
            "showbackground": true,
            "ticks": "",
            "zerolinecolor": "white"
           },
           "zaxis": {
            "backgroundcolor": "#E5ECF6",
            "gridcolor": "white",
            "gridwidth": 2,
            "linecolor": "white",
            "showbackground": true,
            "ticks": "",
            "zerolinecolor": "white"
           }
          },
          "shapedefaults": {
           "line": {
            "color": "#2a3f5f"
           }
          },
          "ternary": {
           "aaxis": {
            "gridcolor": "white",
            "linecolor": "white",
            "ticks": ""
           },
           "baxis": {
            "gridcolor": "white",
            "linecolor": "white",
            "ticks": ""
           },
           "bgcolor": "#E5ECF6",
           "caxis": {
            "gridcolor": "white",
            "linecolor": "white",
            "ticks": ""
           }
          },
          "title": {
           "x": 0.05
          },
          "xaxis": {
           "automargin": true,
           "gridcolor": "white",
           "linecolor": "white",
           "ticks": "",
           "title": {
            "standoff": 15
           },
           "zerolinecolor": "white",
           "zerolinewidth": 2
          },
          "yaxis": {
           "automargin": true,
           "gridcolor": "white",
           "linecolor": "white",
           "ticks": "",
           "title": {
            "standoff": 15
           },
           "zerolinecolor": "white",
           "zerolinewidth": 2
          }
         }
        },
        "title": {
         "text": "Representation of London across Different Countries in %"
        }
       }
      }
     },
     "metadata": {},
     "output_type": "display_data"
    }
   ],
   "source": [
    "import pandas as pd\n",
    "import plotly.graph_objects as go\n",
    "\n",
    "\n",
    "# Concatenate all dataframes into one\n",
    "frames = [df for df in data_foreign.values()]\n",
    "df = pd.concat(frames, ignore_index=True)\n",
    "\n",
    "# Scale 'Representation of COI in %' for marker size\n",
    "df['marker_size'] = df['Representation of COI in %']   # Example scaling factor\n",
    "\n",
    "# Creating the map\n",
    "fig = go.Figure(go.Scattergeo(\n",
    "    lat=df['Latitude'],\n",
    "    lon=df['Longitude'],\n",
    "    text=df['Representation of COI in %'],  # This can be adjusted for more informative hover text\n",
    "    marker=dict(\n",
    "        size=df['marker_size'],\n",
    "        color='blue',  # You can customize the color\n",
    "        line_color='rgb(40,40,40)',\n",
    "        line_width=0.5,\n",
    "        sizemode='diameter'\n",
    "    ),\n",
    "    hoverinfo='text'\n",
    "))\n",
    "\n",
    "# Update the layout to tune the map's appearance\n",
    "fig.update_layout(\n",
    "    title='Representation of London across Different Countries in %',\n",
    "    geo=dict(\n",
    "        scope='world',  # Can be changed to 'europe', 'usa', 'asia', etc.\n",
    "        projection_type='natural earth'\n",
    "    )\n",
    ")\n",
    "\n",
    "fig.show()\n"
   ]
  }
 ],
 "metadata": {
  "kernelspec": {
   "display_name": "Python 3",
   "language": "python",
   "name": "python3"
  },
  "language_info": {
   "codemirror_mode": {
    "name": "ipython",
    "version": 3
   },
   "file_extension": ".py",
   "mimetype": "text/x-python",
   "name": "python",
   "nbconvert_exporter": "python",
   "pygments_lexer": "ipython3",
   "version": "3.11.0"
  }
 },
 "nbformat": 4,
 "nbformat_minor": 2
}
