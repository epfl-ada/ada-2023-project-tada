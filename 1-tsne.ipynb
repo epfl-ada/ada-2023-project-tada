{
 "cells": [
  {
   "cell_type": "code",
   "execution_count": null,
   "metadata": {},
   "outputs": [],
   "source": [
    "import pandas as pd\n",
    "import pandas as pd\n",
    "import numpy as np\n",
    "import warnings\n",
    "from sklearn.manifold import TSNE\n",
    "import plotly.express as px\n",
    "from helpers import load_data, get_embedding\n",
    "import plotly.graph_objects as go\n",
    "\n",
    "warnings.filterwarnings(\"ignore\")\n",
    "\n",
    "DATA_PATH = 'data/'\n",
    "\n",
    "# Load the data\n",
    "loaded_data = load_data(DATA_PATH)\n",
    "\n",
    "character_metadata = loaded_data['character_metadata']\n",
    "movie_metadata = loaded_data['movie_metadata']\n",
    "plot_summaries = loaded_data['plot_summaries']\n",
    "embeddings = loaded_data['embeddings']\n",
    "combined_plot_summaries = loaded_data['combined_plot_summaries']"
   ]
  },
  {
   "cell_type": "code",
   "execution_count": null,
   "metadata": {},
   "outputs": [],
   "source": [
    "tsne = TSNE(n_components=2, random_state=0)\n",
    "tsne_obj = tsne.fit_transform(embeddings)"
   ]
  },
  {
   "cell_type": "code",
   "execution_count": null,
   "metadata": {},
   "outputs": [],
   "source": [
    "def movie_id_to_name(wikipedia_movie_id):\n",
    "    if wikipedia_movie_id is None:\n",
    "        return None\n",
    "    \n",
    "    names = movie_metadata.loc[movie_metadata['Wikipedia movie ID'] == wikipedia_movie_id]['Movie name']\n",
    "\n",
    "    if names.empty:\n",
    "        return \"Unknown\"\n",
    "    return names.values[0]\n",
    "\n",
    "movie_names = combined_plot_summaries['Wikipedia movie ID'].apply(movie_id_to_name)"
   ]
  },
  {
   "cell_type": "code",
   "execution_count": null,
   "metadata": {},
   "outputs": [],
   "source": [
    "search_term = \"pink\" # Interesting searches with cool clusters: pink, sherlock holmes\n",
    "\n",
    "search_embedding = get_embedding(search_term)\n",
    "cosine_similarities = np.dot(embeddings, search_embedding)\n",
    "\n",
    "tsne_df = pd.DataFrame({'X':tsne_obj[:,0],\n",
    "                        'Y':tsne_obj[:,1],\n",
    "                        'Movie': movie_names,\n",
    "                        })\n",
    "\n",
    "fig = px.scatter(tsne_df, x='X', y='Y', width=1000, height=1000, title='T-SNE plot of movie embeddings for search of ' + search_term, hover_name='Movie', color=cosine_similarities, color_continuous_scale='RdBu')\n",
    "\n",
    "fig.show()"
   ]
  }
 ],
 "metadata": {
  "language_info": {
   "name": "python"
  }
 },
 "nbformat": 4,
 "nbformat_minor": 2
}
